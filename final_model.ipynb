{
  "cells": [
    {
      "cell_type": "code",
      "source": [
        "import spacy\n",
        "import pandas as pd\n",
        "from sklearn.feature_extraction.text import TfidfVectorizer\n",
        "from sklearn.model_selection import train_test_split,GridSearchCV,RandomizedSearchCV\n",
        "from sklearn.svm import SVC\n",
        "from sklearn.metrics import classification_report, accuracy_score\n",
        "from sklearn.neighbors import KNeighborsClassifier\n",
        "from sklearn.linear_model import LogisticRegression\n",
        "from sklearn.tree import DecisionTreeClassifier\n",
        "from sklearn.ensemble import RandomForestClassifier\n",
        "from sklearn.pipeline import Pipeline\n",
        "import numpy as np\n",
        "import matplotlib.pyplot as plt\n",
        "import time\n",
        "import random\n"
      ],
      "metadata": {
        "id": "BT_9bk7icBc3"
      },
      "execution_count": 3,
      "outputs": []
    },
    {
      "cell_type": "code",
      "execution_count": 4,
      "metadata": {
        "id": "0wbGzg2JHdOP"
      },
      "outputs": [],
      "source": [
        "import json\n",
        "\n",
        "def load_data(filename):\n",
        "    with open(filename, 'r') as file:\n",
        "        data = json.load(file)\n",
        "    return data\n",
        "data=load_data('MentalhealthcareData.json')"
      ]
    },
    {
      "cell_type": "code",
      "execution_count": 5,
      "metadata": {
        "id": "qupiwjRyJL1_",
        "colab": {
          "base_uri": "https://localhost:8080/"
        },
        "outputId": "975cf17d-dfb0-447c-8da5-5f49daff56cd"
      },
      "outputs": [
        {
          "output_type": "stream",
          "name": "stdout",
          "text": [
            "Requirement already satisfied: spacy in /usr/local/lib/python3.10/dist-packages (3.7.4)\n",
            "Requirement already satisfied: spacy-legacy<3.1.0,>=3.0.11 in /usr/local/lib/python3.10/dist-packages (from spacy) (3.0.12)\n",
            "Requirement already satisfied: spacy-loggers<2.0.0,>=1.0.0 in /usr/local/lib/python3.10/dist-packages (from spacy) (1.0.5)\n",
            "Requirement already satisfied: murmurhash<1.1.0,>=0.28.0 in /usr/local/lib/python3.10/dist-packages (from spacy) (1.0.10)\n",
            "Requirement already satisfied: cymem<2.1.0,>=2.0.2 in /usr/local/lib/python3.10/dist-packages (from spacy) (2.0.8)\n",
            "Requirement already satisfied: preshed<3.1.0,>=3.0.2 in /usr/local/lib/python3.10/dist-packages (from spacy) (3.0.9)\n",
            "Requirement already satisfied: thinc<8.3.0,>=8.2.2 in /usr/local/lib/python3.10/dist-packages (from spacy) (8.2.3)\n",
            "Requirement already satisfied: wasabi<1.2.0,>=0.9.1 in /usr/local/lib/python3.10/dist-packages (from spacy) (1.1.2)\n",
            "Requirement already satisfied: srsly<3.0.0,>=2.4.3 in /usr/local/lib/python3.10/dist-packages (from spacy) (2.4.8)\n",
            "Requirement already satisfied: catalogue<2.1.0,>=2.0.6 in /usr/local/lib/python3.10/dist-packages (from spacy) (2.0.10)\n",
            "Requirement already satisfied: weasel<0.4.0,>=0.1.0 in /usr/local/lib/python3.10/dist-packages (from spacy) (0.3.4)\n",
            "Requirement already satisfied: typer<0.10.0,>=0.3.0 in /usr/local/lib/python3.10/dist-packages (from spacy) (0.9.4)\n",
            "Requirement already satisfied: smart-open<7.0.0,>=5.2.1 in /usr/local/lib/python3.10/dist-packages (from spacy) (6.4.0)\n",
            "Requirement already satisfied: tqdm<5.0.0,>=4.38.0 in /usr/local/lib/python3.10/dist-packages (from spacy) (4.66.2)\n",
            "Requirement already satisfied: requests<3.0.0,>=2.13.0 in /usr/local/lib/python3.10/dist-packages (from spacy) (2.31.0)\n",
            "Requirement already satisfied: pydantic!=1.8,!=1.8.1,<3.0.0,>=1.7.4 in /usr/local/lib/python3.10/dist-packages (from spacy) (2.7.1)\n",
            "Requirement already satisfied: jinja2 in /usr/local/lib/python3.10/dist-packages (from spacy) (3.1.3)\n",
            "Requirement already satisfied: setuptools in /usr/local/lib/python3.10/dist-packages (from spacy) (67.7.2)\n",
            "Requirement already satisfied: packaging>=20.0 in /usr/local/lib/python3.10/dist-packages (from spacy) (24.0)\n",
            "Requirement already satisfied: langcodes<4.0.0,>=3.2.0 in /usr/local/lib/python3.10/dist-packages (from spacy) (3.4.0)\n",
            "Requirement already satisfied: numpy>=1.19.0 in /usr/local/lib/python3.10/dist-packages (from spacy) (1.25.2)\n",
            "Requirement already satisfied: language-data>=1.2 in /usr/local/lib/python3.10/dist-packages (from langcodes<4.0.0,>=3.2.0->spacy) (1.2.0)\n",
            "Requirement already satisfied: annotated-types>=0.4.0 in /usr/local/lib/python3.10/dist-packages (from pydantic!=1.8,!=1.8.1,<3.0.0,>=1.7.4->spacy) (0.6.0)\n",
            "Requirement already satisfied: pydantic-core==2.18.2 in /usr/local/lib/python3.10/dist-packages (from pydantic!=1.8,!=1.8.1,<3.0.0,>=1.7.4->spacy) (2.18.2)\n",
            "Requirement already satisfied: typing-extensions>=4.6.1 in /usr/local/lib/python3.10/dist-packages (from pydantic!=1.8,!=1.8.1,<3.0.0,>=1.7.4->spacy) (4.11.0)\n",
            "Requirement already satisfied: charset-normalizer<4,>=2 in /usr/local/lib/python3.10/dist-packages (from requests<3.0.0,>=2.13.0->spacy) (3.3.2)\n",
            "Requirement already satisfied: idna<4,>=2.5 in /usr/local/lib/python3.10/dist-packages (from requests<3.0.0,>=2.13.0->spacy) (3.7)\n",
            "Requirement already satisfied: urllib3<3,>=1.21.1 in /usr/local/lib/python3.10/dist-packages (from requests<3.0.0,>=2.13.0->spacy) (2.0.7)\n",
            "Requirement already satisfied: certifi>=2017.4.17 in /usr/local/lib/python3.10/dist-packages (from requests<3.0.0,>=2.13.0->spacy) (2024.2.2)\n",
            "Requirement already satisfied: blis<0.8.0,>=0.7.8 in /usr/local/lib/python3.10/dist-packages (from thinc<8.3.0,>=8.2.2->spacy) (0.7.11)\n",
            "Requirement already satisfied: confection<1.0.0,>=0.0.1 in /usr/local/lib/python3.10/dist-packages (from thinc<8.3.0,>=8.2.2->spacy) (0.1.4)\n",
            "Requirement already satisfied: click<9.0.0,>=7.1.1 in /usr/local/lib/python3.10/dist-packages (from typer<0.10.0,>=0.3.0->spacy) (8.1.7)\n",
            "Requirement already satisfied: cloudpathlib<0.17.0,>=0.7.0 in /usr/local/lib/python3.10/dist-packages (from weasel<0.4.0,>=0.1.0->spacy) (0.16.0)\n",
            "Requirement already satisfied: MarkupSafe>=2.0 in /usr/local/lib/python3.10/dist-packages (from jinja2->spacy) (2.1.5)\n",
            "Requirement already satisfied: marisa-trie>=0.7.7 in /usr/local/lib/python3.10/dist-packages (from language-data>=1.2->langcodes<4.0.0,>=3.2.0->spacy) (1.1.0)\n",
            "Collecting en-core-web-md==3.7.1\n",
            "  Downloading https://github.com/explosion/spacy-models/releases/download/en_core_web_md-3.7.1/en_core_web_md-3.7.1-py3-none-any.whl (42.8 MB)\n",
            "\u001b[2K     \u001b[90m━━━━━━━━━━━━━━━━━━━━━━━━━━━━━━━━━━━━━━━━\u001b[0m \u001b[32m42.8/42.8 MB\u001b[0m \u001b[31m14.9 MB/s\u001b[0m eta \u001b[36m0:00:00\u001b[0m\n",
            "\u001b[?25hRequirement already satisfied: spacy<3.8.0,>=3.7.2 in /usr/local/lib/python3.10/dist-packages (from en-core-web-md==3.7.1) (3.7.4)\n",
            "Requirement already satisfied: spacy-legacy<3.1.0,>=3.0.11 in /usr/local/lib/python3.10/dist-packages (from spacy<3.8.0,>=3.7.2->en-core-web-md==3.7.1) (3.0.12)\n",
            "Requirement already satisfied: spacy-loggers<2.0.0,>=1.0.0 in /usr/local/lib/python3.10/dist-packages (from spacy<3.8.0,>=3.7.2->en-core-web-md==3.7.1) (1.0.5)\n",
            "Requirement already satisfied: murmurhash<1.1.0,>=0.28.0 in /usr/local/lib/python3.10/dist-packages (from spacy<3.8.0,>=3.7.2->en-core-web-md==3.7.1) (1.0.10)\n",
            "Requirement already satisfied: cymem<2.1.0,>=2.0.2 in /usr/local/lib/python3.10/dist-packages (from spacy<3.8.0,>=3.7.2->en-core-web-md==3.7.1) (2.0.8)\n",
            "Requirement already satisfied: preshed<3.1.0,>=3.0.2 in /usr/local/lib/python3.10/dist-packages (from spacy<3.8.0,>=3.7.2->en-core-web-md==3.7.1) (3.0.9)\n",
            "Requirement already satisfied: thinc<8.3.0,>=8.2.2 in /usr/local/lib/python3.10/dist-packages (from spacy<3.8.0,>=3.7.2->en-core-web-md==3.7.1) (8.2.3)\n",
            "Requirement already satisfied: wasabi<1.2.0,>=0.9.1 in /usr/local/lib/python3.10/dist-packages (from spacy<3.8.0,>=3.7.2->en-core-web-md==3.7.1) (1.1.2)\n",
            "Requirement already satisfied: srsly<3.0.0,>=2.4.3 in /usr/local/lib/python3.10/dist-packages (from spacy<3.8.0,>=3.7.2->en-core-web-md==3.7.1) (2.4.8)\n",
            "Requirement already satisfied: catalogue<2.1.0,>=2.0.6 in /usr/local/lib/python3.10/dist-packages (from spacy<3.8.0,>=3.7.2->en-core-web-md==3.7.1) (2.0.10)\n",
            "Requirement already satisfied: weasel<0.4.0,>=0.1.0 in /usr/local/lib/python3.10/dist-packages (from spacy<3.8.0,>=3.7.2->en-core-web-md==3.7.1) (0.3.4)\n",
            "Requirement already satisfied: typer<0.10.0,>=0.3.0 in /usr/local/lib/python3.10/dist-packages (from spacy<3.8.0,>=3.7.2->en-core-web-md==3.7.1) (0.9.4)\n",
            "Requirement already satisfied: smart-open<7.0.0,>=5.2.1 in /usr/local/lib/python3.10/dist-packages (from spacy<3.8.0,>=3.7.2->en-core-web-md==3.7.1) (6.4.0)\n",
            "Requirement already satisfied: tqdm<5.0.0,>=4.38.0 in /usr/local/lib/python3.10/dist-packages (from spacy<3.8.0,>=3.7.2->en-core-web-md==3.7.1) (4.66.2)\n",
            "Requirement already satisfied: requests<3.0.0,>=2.13.0 in /usr/local/lib/python3.10/dist-packages (from spacy<3.8.0,>=3.7.2->en-core-web-md==3.7.1) (2.31.0)\n",
            "Requirement already satisfied: pydantic!=1.8,!=1.8.1,<3.0.0,>=1.7.4 in /usr/local/lib/python3.10/dist-packages (from spacy<3.8.0,>=3.7.2->en-core-web-md==3.7.1) (2.7.1)\n",
            "Requirement already satisfied: jinja2 in /usr/local/lib/python3.10/dist-packages (from spacy<3.8.0,>=3.7.2->en-core-web-md==3.7.1) (3.1.3)\n",
            "Requirement already satisfied: setuptools in /usr/local/lib/python3.10/dist-packages (from spacy<3.8.0,>=3.7.2->en-core-web-md==3.7.1) (67.7.2)\n",
            "Requirement already satisfied: packaging>=20.0 in /usr/local/lib/python3.10/dist-packages (from spacy<3.8.0,>=3.7.2->en-core-web-md==3.7.1) (24.0)\n",
            "Requirement already satisfied: langcodes<4.0.0,>=3.2.0 in /usr/local/lib/python3.10/dist-packages (from spacy<3.8.0,>=3.7.2->en-core-web-md==3.7.1) (3.4.0)\n",
            "Requirement already satisfied: numpy>=1.19.0 in /usr/local/lib/python3.10/dist-packages (from spacy<3.8.0,>=3.7.2->en-core-web-md==3.7.1) (1.25.2)\n",
            "Requirement already satisfied: language-data>=1.2 in /usr/local/lib/python3.10/dist-packages (from langcodes<4.0.0,>=3.2.0->spacy<3.8.0,>=3.7.2->en-core-web-md==3.7.1) (1.2.0)\n",
            "Requirement already satisfied: annotated-types>=0.4.0 in /usr/local/lib/python3.10/dist-packages (from pydantic!=1.8,!=1.8.1,<3.0.0,>=1.7.4->spacy<3.8.0,>=3.7.2->en-core-web-md==3.7.1) (0.6.0)\n",
            "Requirement already satisfied: pydantic-core==2.18.2 in /usr/local/lib/python3.10/dist-packages (from pydantic!=1.8,!=1.8.1,<3.0.0,>=1.7.4->spacy<3.8.0,>=3.7.2->en-core-web-md==3.7.1) (2.18.2)\n",
            "Requirement already satisfied: typing-extensions>=4.6.1 in /usr/local/lib/python3.10/dist-packages (from pydantic!=1.8,!=1.8.1,<3.0.0,>=1.7.4->spacy<3.8.0,>=3.7.2->en-core-web-md==3.7.1) (4.11.0)\n",
            "Requirement already satisfied: charset-normalizer<4,>=2 in /usr/local/lib/python3.10/dist-packages (from requests<3.0.0,>=2.13.0->spacy<3.8.0,>=3.7.2->en-core-web-md==3.7.1) (3.3.2)\n",
            "Requirement already satisfied: idna<4,>=2.5 in /usr/local/lib/python3.10/dist-packages (from requests<3.0.0,>=2.13.0->spacy<3.8.0,>=3.7.2->en-core-web-md==3.7.1) (3.7)\n",
            "Requirement already satisfied: urllib3<3,>=1.21.1 in /usr/local/lib/python3.10/dist-packages (from requests<3.0.0,>=2.13.0->spacy<3.8.0,>=3.7.2->en-core-web-md==3.7.1) (2.0.7)\n",
            "Requirement already satisfied: certifi>=2017.4.17 in /usr/local/lib/python3.10/dist-packages (from requests<3.0.0,>=2.13.0->spacy<3.8.0,>=3.7.2->en-core-web-md==3.7.1) (2024.2.2)\n",
            "Requirement already satisfied: blis<0.8.0,>=0.7.8 in /usr/local/lib/python3.10/dist-packages (from thinc<8.3.0,>=8.2.2->spacy<3.8.0,>=3.7.2->en-core-web-md==3.7.1) (0.7.11)\n",
            "Requirement already satisfied: confection<1.0.0,>=0.0.1 in /usr/local/lib/python3.10/dist-packages (from thinc<8.3.0,>=8.2.2->spacy<3.8.0,>=3.7.2->en-core-web-md==3.7.1) (0.1.4)\n",
            "Requirement already satisfied: click<9.0.0,>=7.1.1 in /usr/local/lib/python3.10/dist-packages (from typer<0.10.0,>=0.3.0->spacy<3.8.0,>=3.7.2->en-core-web-md==3.7.1) (8.1.7)\n",
            "Requirement already satisfied: cloudpathlib<0.17.0,>=0.7.0 in /usr/local/lib/python3.10/dist-packages (from weasel<0.4.0,>=0.1.0->spacy<3.8.0,>=3.7.2->en-core-web-md==3.7.1) (0.16.0)\n",
            "Requirement already satisfied: MarkupSafe>=2.0 in /usr/local/lib/python3.10/dist-packages (from jinja2->spacy<3.8.0,>=3.7.2->en-core-web-md==3.7.1) (2.1.5)\n",
            "Requirement already satisfied: marisa-trie>=0.7.7 in /usr/local/lib/python3.10/dist-packages (from language-data>=1.2->langcodes<4.0.0,>=3.2.0->spacy<3.8.0,>=3.7.2->en-core-web-md==3.7.1) (1.1.0)\n",
            "Installing collected packages: en-core-web-md\n",
            "Successfully installed en-core-web-md-3.7.1\n",
            "\u001b[38;5;2m✔ Download and installation successful\u001b[0m\n",
            "You can now load the package via spacy.load('en_core_web_md')\n",
            "\u001b[38;5;3m⚠ Restart to reload dependencies\u001b[0m\n",
            "If you are in a Jupyter or Colab notebook, you may need to restart Python in\n",
            "order to load all the package's dependencies. You can do this by selecting the\n",
            "'Restart kernel' or 'Restart runtime' option.\n"
          ]
        }
      ],
      "source": [
        "!pip install spacy\n",
        "!python -m spacy download en_core_web_md\n"
      ]
    },
    {
      "cell_type": "code",
      "source": [
        "nlp = spacy.load('en_core_web_md')"
      ],
      "metadata": {
        "id": "sqT5cmKDWsak"
      },
      "execution_count": 6,
      "outputs": []
    },
    {
      "cell_type": "code",
      "source": [
        "\n",
        "def advanced_preprocess_text(text):\n",
        "    doc = nlp(text.lower())\n",
        "    cleaned_text = []\n",
        "    skip_next = False\n",
        "    for token in doc:\n",
        "        if skip_next:\n",
        "            skip_next = False\n",
        "            continue\n",
        "        if token.text == 'not' and token.i + 1 < len(doc):\n",
        "            cleaned_text.append(token.text + '_' + doc[token.i + 1].lemma_)\n",
        "            skip_next = True\n",
        "        elif not token.is_stop and not token.is_punct and token.lemma_ != \"-PRON-\":\n",
        "            if token.pos_ in ['NOUN', 'ADJ', 'VERB', 'ADV']:\n",
        "                cleaned_text.append(token.lemma_)\n",
        "    return \" \".join(cleaned_text)\n",
        "\n",
        "# Example use:\n",
        "text_example = \"I am not feeling well Today.\"\n",
        "processed_text = advanced_preprocess_text(text_example)\n",
        "print(processed_text)  # Check output to see if it makes sense and isn't single characters\n"
      ],
      "metadata": {
        "colab": {
          "base_uri": "https://localhost:8080/"
        },
        "id": "3G6mflt6SHub",
        "outputId": "7c41bf20-aea6-4151-e0f5-656150a0f949"
      },
      "execution_count": 7,
      "outputs": [
        {
          "output_type": "stream",
          "name": "stdout",
          "text": [
            "not_feel today\n"
          ]
        }
      ]
    },
    {
      "cell_type": "code",
      "source": [
        "# Preprocess patterns in intents\n",
        "for intent in data['intents']:\n",
        "  intent['processed_pattern']   = advanced_preprocess_text(intent['pattern'])"
      ],
      "metadata": {
        "id": "lZQxm7mkTFK-"
      },
      "execution_count": 8,
      "outputs": []
    },
    {
      "cell_type": "code",
      "source": [
        "for intent in data['intents'][:5]:\n",
        "    original_text = intent['pattern']\n",
        "    preprocessed_text =  intent['processed_pattern']\n",
        "    print(f\"Original: {original_text}\\nPreprocessed: {preprocessed_text}\\n\")"
      ],
      "metadata": {
        "colab": {
          "base_uri": "https://localhost:8080/"
        },
        "id": "w6LXftJGUPRz",
        "outputId": "73fe8511-6a1f-443f-829a-003adf7e87f1"
      },
      "execution_count": 9,
      "outputs": [
        {
          "output_type": "stream",
          "name": "stdout",
          "text": [
            "Original: How do I navigate cultural differences with my partner's family?\n",
            "Preprocessed: navigate cultural difference partner family\n",
            "\n",
            "Original: What should I do if my partner and I have different levels of emotional intelligence?\n",
            "Preprocessed: partner different level emotional intelligence\n",
            "\n",
            "Original: How can I support my partner through a career transition?\n",
            "Preprocessed: support partner career transition\n",
            "\n",
            "Original: What should I do if my partner and I have different parenting styles?\n",
            "Preprocessed: partner different parenting style\n",
            "\n",
            "Original: How do I handle disagreements about money with my partner?\n",
            "Preprocessed: handle disagreement money partner\n",
            "\n"
          ]
        }
      ]
    },
    {
      "cell_type": "code",
      "source": [
        "#Convert JSON data into Dataframe\n",
        "df = pd.json_normalize(data['intents'])\n",
        "\n",
        "\n"
      ],
      "metadata": {
        "id": "PTsfqawwYQRj"
      },
      "execution_count": 10,
      "outputs": []
    },
    {
      "cell_type": "code",
      "source": [
        "df.head()"
      ],
      "metadata": {
        "colab": {
          "base_uri": "https://localhost:8080/",
          "height": 293
        },
        "id": "nj3MHfmMcL5I",
        "outputId": "52a7c48b-78e0-4c84-fc84-538f90785e7b"
      },
      "execution_count": 11,
      "outputs": [
        {
          "output_type": "execute_result",
          "data": {
            "text/plain": [
              "            tag                                            pattern  \\\n",
              "0  relationship  How do I navigate cultural differences with my...   \n",
              "1  relationship  What should I do if my partner and I have diff...   \n",
              "2  relationship  How can I support my partner through a career ...   \n",
              "3  relationship  What should I do if my partner and I have diff...   \n",
              "4  relationship  How do I handle disagreements about money with...   \n",
              "\n",
              "                                            response  \\\n",
              "0  Navigating cultural differences with your part...   \n",
              "1  Differences in emotional intelligence can impa...   \n",
              "2  Supporting your partner through a career trans...   \n",
              "3  Differences in parenting styles can lead to co...   \n",
              "4  Disagreements about money are common in relati...   \n",
              "\n",
              "                                processed_pattern  \n",
              "0     navigate cultural difference partner family  \n",
              "1  partner different level emotional intelligence  \n",
              "2               support partner career transition  \n",
              "3               partner different parenting style  \n",
              "4               handle disagreement money partner  "
            ],
            "text/html": [
              "\n",
              "  <div id=\"df-23dd7340-cb8e-4a81-aabd-2ef948b0fc0b\" class=\"colab-df-container\">\n",
              "    <div>\n",
              "<style scoped>\n",
              "    .dataframe tbody tr th:only-of-type {\n",
              "        vertical-align: middle;\n",
              "    }\n",
              "\n",
              "    .dataframe tbody tr th {\n",
              "        vertical-align: top;\n",
              "    }\n",
              "\n",
              "    .dataframe thead th {\n",
              "        text-align: right;\n",
              "    }\n",
              "</style>\n",
              "<table border=\"1\" class=\"dataframe\">\n",
              "  <thead>\n",
              "    <tr style=\"text-align: right;\">\n",
              "      <th></th>\n",
              "      <th>tag</th>\n",
              "      <th>pattern</th>\n",
              "      <th>response</th>\n",
              "      <th>processed_pattern</th>\n",
              "    </tr>\n",
              "  </thead>\n",
              "  <tbody>\n",
              "    <tr>\n",
              "      <th>0</th>\n",
              "      <td>relationship</td>\n",
              "      <td>How do I navigate cultural differences with my...</td>\n",
              "      <td>Navigating cultural differences with your part...</td>\n",
              "      <td>navigate cultural difference partner family</td>\n",
              "    </tr>\n",
              "    <tr>\n",
              "      <th>1</th>\n",
              "      <td>relationship</td>\n",
              "      <td>What should I do if my partner and I have diff...</td>\n",
              "      <td>Differences in emotional intelligence can impa...</td>\n",
              "      <td>partner different level emotional intelligence</td>\n",
              "    </tr>\n",
              "    <tr>\n",
              "      <th>2</th>\n",
              "      <td>relationship</td>\n",
              "      <td>How can I support my partner through a career ...</td>\n",
              "      <td>Supporting your partner through a career trans...</td>\n",
              "      <td>support partner career transition</td>\n",
              "    </tr>\n",
              "    <tr>\n",
              "      <th>3</th>\n",
              "      <td>relationship</td>\n",
              "      <td>What should I do if my partner and I have diff...</td>\n",
              "      <td>Differences in parenting styles can lead to co...</td>\n",
              "      <td>partner different parenting style</td>\n",
              "    </tr>\n",
              "    <tr>\n",
              "      <th>4</th>\n",
              "      <td>relationship</td>\n",
              "      <td>How do I handle disagreements about money with...</td>\n",
              "      <td>Disagreements about money are common in relati...</td>\n",
              "      <td>handle disagreement money partner</td>\n",
              "    </tr>\n",
              "  </tbody>\n",
              "</table>\n",
              "</div>\n",
              "    <div class=\"colab-df-buttons\">\n",
              "\n",
              "  <div class=\"colab-df-container\">\n",
              "    <button class=\"colab-df-convert\" onclick=\"convertToInteractive('df-23dd7340-cb8e-4a81-aabd-2ef948b0fc0b')\"\n",
              "            title=\"Convert this dataframe to an interactive table.\"\n",
              "            style=\"display:none;\">\n",
              "\n",
              "  <svg xmlns=\"http://www.w3.org/2000/svg\" height=\"24px\" viewBox=\"0 -960 960 960\">\n",
              "    <path d=\"M120-120v-720h720v720H120Zm60-500h600v-160H180v160Zm220 220h160v-160H400v160Zm0 220h160v-160H400v160ZM180-400h160v-160H180v160Zm440 0h160v-160H620v160ZM180-180h160v-160H180v160Zm440 0h160v-160H620v160Z\"/>\n",
              "  </svg>\n",
              "    </button>\n",
              "\n",
              "  <style>\n",
              "    .colab-df-container {\n",
              "      display:flex;\n",
              "      gap: 12px;\n",
              "    }\n",
              "\n",
              "    .colab-df-convert {\n",
              "      background-color: #E8F0FE;\n",
              "      border: none;\n",
              "      border-radius: 50%;\n",
              "      cursor: pointer;\n",
              "      display: none;\n",
              "      fill: #1967D2;\n",
              "      height: 32px;\n",
              "      padding: 0 0 0 0;\n",
              "      width: 32px;\n",
              "    }\n",
              "\n",
              "    .colab-df-convert:hover {\n",
              "      background-color: #E2EBFA;\n",
              "      box-shadow: 0px 1px 2px rgba(60, 64, 67, 0.3), 0px 1px 3px 1px rgba(60, 64, 67, 0.15);\n",
              "      fill: #174EA6;\n",
              "    }\n",
              "\n",
              "    .colab-df-buttons div {\n",
              "      margin-bottom: 4px;\n",
              "    }\n",
              "\n",
              "    [theme=dark] .colab-df-convert {\n",
              "      background-color: #3B4455;\n",
              "      fill: #D2E3FC;\n",
              "    }\n",
              "\n",
              "    [theme=dark] .colab-df-convert:hover {\n",
              "      background-color: #434B5C;\n",
              "      box-shadow: 0px 1px 3px 1px rgba(0, 0, 0, 0.15);\n",
              "      filter: drop-shadow(0px 1px 2px rgba(0, 0, 0, 0.3));\n",
              "      fill: #FFFFFF;\n",
              "    }\n",
              "  </style>\n",
              "\n",
              "    <script>\n",
              "      const buttonEl =\n",
              "        document.querySelector('#df-23dd7340-cb8e-4a81-aabd-2ef948b0fc0b button.colab-df-convert');\n",
              "      buttonEl.style.display =\n",
              "        google.colab.kernel.accessAllowed ? 'block' : 'none';\n",
              "\n",
              "      async function convertToInteractive(key) {\n",
              "        const element = document.querySelector('#df-23dd7340-cb8e-4a81-aabd-2ef948b0fc0b');\n",
              "        const dataTable =\n",
              "          await google.colab.kernel.invokeFunction('convertToInteractive',\n",
              "                                                    [key], {});\n",
              "        if (!dataTable) return;\n",
              "\n",
              "        const docLinkHtml = 'Like what you see? Visit the ' +\n",
              "          '<a target=\"_blank\" href=https://colab.research.google.com/notebooks/data_table.ipynb>data table notebook</a>'\n",
              "          + ' to learn more about interactive tables.';\n",
              "        element.innerHTML = '';\n",
              "        dataTable['output_type'] = 'display_data';\n",
              "        await google.colab.output.renderOutput(dataTable, element);\n",
              "        const docLink = document.createElement('div');\n",
              "        docLink.innerHTML = docLinkHtml;\n",
              "        element.appendChild(docLink);\n",
              "      }\n",
              "    </script>\n",
              "  </div>\n",
              "\n",
              "\n",
              "<div id=\"df-cb2d9570-d4e3-45ec-b24e-e23c6288593e\">\n",
              "  <button class=\"colab-df-quickchart\" onclick=\"quickchart('df-cb2d9570-d4e3-45ec-b24e-e23c6288593e')\"\n",
              "            title=\"Suggest charts\"\n",
              "            style=\"display:none;\">\n",
              "\n",
              "<svg xmlns=\"http://www.w3.org/2000/svg\" height=\"24px\"viewBox=\"0 0 24 24\"\n",
              "     width=\"24px\">\n",
              "    <g>\n",
              "        <path d=\"M19 3H5c-1.1 0-2 .9-2 2v14c0 1.1.9 2 2 2h14c1.1 0 2-.9 2-2V5c0-1.1-.9-2-2-2zM9 17H7v-7h2v7zm4 0h-2V7h2v10zm4 0h-2v-4h2v4z\"/>\n",
              "    </g>\n",
              "</svg>\n",
              "  </button>\n",
              "\n",
              "<style>\n",
              "  .colab-df-quickchart {\n",
              "      --bg-color: #E8F0FE;\n",
              "      --fill-color: #1967D2;\n",
              "      --hover-bg-color: #E2EBFA;\n",
              "      --hover-fill-color: #174EA6;\n",
              "      --disabled-fill-color: #AAA;\n",
              "      --disabled-bg-color: #DDD;\n",
              "  }\n",
              "\n",
              "  [theme=dark] .colab-df-quickchart {\n",
              "      --bg-color: #3B4455;\n",
              "      --fill-color: #D2E3FC;\n",
              "      --hover-bg-color: #434B5C;\n",
              "      --hover-fill-color: #FFFFFF;\n",
              "      --disabled-bg-color: #3B4455;\n",
              "      --disabled-fill-color: #666;\n",
              "  }\n",
              "\n",
              "  .colab-df-quickchart {\n",
              "    background-color: var(--bg-color);\n",
              "    border: none;\n",
              "    border-radius: 50%;\n",
              "    cursor: pointer;\n",
              "    display: none;\n",
              "    fill: var(--fill-color);\n",
              "    height: 32px;\n",
              "    padding: 0;\n",
              "    width: 32px;\n",
              "  }\n",
              "\n",
              "  .colab-df-quickchart:hover {\n",
              "    background-color: var(--hover-bg-color);\n",
              "    box-shadow: 0 1px 2px rgba(60, 64, 67, 0.3), 0 1px 3px 1px rgba(60, 64, 67, 0.15);\n",
              "    fill: var(--button-hover-fill-color);\n",
              "  }\n",
              "\n",
              "  .colab-df-quickchart-complete:disabled,\n",
              "  .colab-df-quickchart-complete:disabled:hover {\n",
              "    background-color: var(--disabled-bg-color);\n",
              "    fill: var(--disabled-fill-color);\n",
              "    box-shadow: none;\n",
              "  }\n",
              "\n",
              "  .colab-df-spinner {\n",
              "    border: 2px solid var(--fill-color);\n",
              "    border-color: transparent;\n",
              "    border-bottom-color: var(--fill-color);\n",
              "    animation:\n",
              "      spin 1s steps(1) infinite;\n",
              "  }\n",
              "\n",
              "  @keyframes spin {\n",
              "    0% {\n",
              "      border-color: transparent;\n",
              "      border-bottom-color: var(--fill-color);\n",
              "      border-left-color: var(--fill-color);\n",
              "    }\n",
              "    20% {\n",
              "      border-color: transparent;\n",
              "      border-left-color: var(--fill-color);\n",
              "      border-top-color: var(--fill-color);\n",
              "    }\n",
              "    30% {\n",
              "      border-color: transparent;\n",
              "      border-left-color: var(--fill-color);\n",
              "      border-top-color: var(--fill-color);\n",
              "      border-right-color: var(--fill-color);\n",
              "    }\n",
              "    40% {\n",
              "      border-color: transparent;\n",
              "      border-right-color: var(--fill-color);\n",
              "      border-top-color: var(--fill-color);\n",
              "    }\n",
              "    60% {\n",
              "      border-color: transparent;\n",
              "      border-right-color: var(--fill-color);\n",
              "    }\n",
              "    80% {\n",
              "      border-color: transparent;\n",
              "      border-right-color: var(--fill-color);\n",
              "      border-bottom-color: var(--fill-color);\n",
              "    }\n",
              "    90% {\n",
              "      border-color: transparent;\n",
              "      border-bottom-color: var(--fill-color);\n",
              "    }\n",
              "  }\n",
              "</style>\n",
              "\n",
              "  <script>\n",
              "    async function quickchart(key) {\n",
              "      const quickchartButtonEl =\n",
              "        document.querySelector('#' + key + ' button');\n",
              "      quickchartButtonEl.disabled = true;  // To prevent multiple clicks.\n",
              "      quickchartButtonEl.classList.add('colab-df-spinner');\n",
              "      try {\n",
              "        const charts = await google.colab.kernel.invokeFunction(\n",
              "            'suggestCharts', [key], {});\n",
              "      } catch (error) {\n",
              "        console.error('Error during call to suggestCharts:', error);\n",
              "      }\n",
              "      quickchartButtonEl.classList.remove('colab-df-spinner');\n",
              "      quickchartButtonEl.classList.add('colab-df-quickchart-complete');\n",
              "    }\n",
              "    (() => {\n",
              "      let quickchartButtonEl =\n",
              "        document.querySelector('#df-cb2d9570-d4e3-45ec-b24e-e23c6288593e button');\n",
              "      quickchartButtonEl.style.display =\n",
              "        google.colab.kernel.accessAllowed ? 'block' : 'none';\n",
              "    })();\n",
              "  </script>\n",
              "</div>\n",
              "\n",
              "    </div>\n",
              "  </div>\n"
            ],
            "application/vnd.google.colaboratory.intrinsic+json": {
              "type": "dataframe",
              "variable_name": "df",
              "summary": "{\n  \"name\": \"df\",\n  \"rows\": 780,\n  \"fields\": [\n    {\n      \"column\": \"tag\",\n      \"properties\": {\n        \"dtype\": \"category\",\n        \"num_unique_values\": 300,\n        \"samples\": [\n          \"post-traumatic stress disorder\",\n          \"relaxation techniques\",\n          \"Causes of Eating Disorders\"\n        ],\n        \"semantic_type\": \"\",\n        \"description\": \"\"\n      }\n    },\n    {\n      \"column\": \"pattern\",\n      \"properties\": {\n        \"dtype\": \"string\",\n        \"num_unique_values\": 729,\n        \"samples\": [\n          \"What causes Multi-Infarct Dementia?\",\n          \"Specific Phobias\",\n          \"What are the implications of recent research findings for clinical practice?\"\n        ],\n        \"semantic_type\": \"\",\n        \"description\": \"\"\n      }\n    },\n    {\n      \"column\": \"response\",\n      \"properties\": {\n        \"dtype\": \"string\",\n        \"num_unique_values\": 746,\n        \"samples\": [\n          \"Yes, lifestyle changes can play a significant role in managing chronic pain. These may include regular exercise, maintaining a healthy weight, practicing stress management techniques (such as mindfulness or relaxation exercises), improving sleep hygiene, and avoiding activities that exacerbate pain.\",\n          \"Medication-assisted treatments (MAT) combine medications with behavioral therapies to address substance use disorders. For example, medications may help reduce cravings, alleviate withdrawal symptoms, or block the effects of certain substances, improving treatment outcomes and supporting long-term recovery.\",\n          \"Anxiety is a normal and often necessary response to stress or danger. It is characterized by feelings of worry, nervousness, or fear that are disproportionate to the actual threat. While occasional anxiety is a natural part of life, excessive or persistent anxiety that interferes with daily functioning may indicate an anxiety disorder.\"\n        ],\n        \"semantic_type\": \"\",\n        \"description\": \"\"\n      }\n    },\n    {\n      \"column\": \"processed_pattern\",\n      \"properties\": {\n        \"dtype\": \"string\",\n        \"num_unique_values\": 713,\n        \"samples\": [\n          \"anticipatory anxiety\",\n          \"sleep disturbance depression\",\n          \"depression affect work school performance\"\n        ],\n        \"semantic_type\": \"\",\n        \"description\": \"\"\n      }\n    }\n  ]\n}"
            }
          },
          "metadata": {},
          "execution_count": 11
        }
      ]
    },
    {
      "cell_type": "code",
      "source": [
        "df.info()"
      ],
      "metadata": {
        "colab": {
          "base_uri": "https://localhost:8080/"
        },
        "id": "1QbZ_qGe4IYf",
        "outputId": "72d41796-273d-49df-b4a2-de3eb414f5d1"
      },
      "execution_count": 12,
      "outputs": [
        {
          "output_type": "stream",
          "name": "stdout",
          "text": [
            "<class 'pandas.core.frame.DataFrame'>\n",
            "RangeIndex: 780 entries, 0 to 779\n",
            "Data columns (total 4 columns):\n",
            " #   Column             Non-Null Count  Dtype \n",
            "---  ------             --------------  ----- \n",
            " 0   tag                780 non-null    object\n",
            " 1   pattern            780 non-null    object\n",
            " 2   response           780 non-null    object\n",
            " 3   processed_pattern  780 non-null    object\n",
            "dtypes: object(4)\n",
            "memory usage: 24.5+ KB\n"
          ]
        }
      ]
    },
    {
      "cell_type": "code",
      "source": [
        "df.describe()\n"
      ],
      "metadata": {
        "colab": {
          "base_uri": "https://localhost:8080/",
          "height": 175
        },
        "id": "ZP4IIlCCeDWw",
        "outputId": "4c85786b-51ec-4a36-8974-ec58cd4ed424"
      },
      "execution_count": 13,
      "outputs": [
        {
          "output_type": "execute_result",
          "data": {
            "text/plain": [
              "            tag                        pattern  \\\n",
              "count       780                            780   \n",
              "unique      300                            729   \n",
              "top     anxiety  What is postpartum psychosis?   \n",
              "freq         49                              4   \n",
              "\n",
              "                                                 response  \\\n",
              "count                                                 780   \n",
              "unique                                                746   \n",
              "top     Treatment for conduct disorder may include the...   \n",
              "freq                                                    2   \n",
              "\n",
              "           processed_pattern  \n",
              "count                    780  \n",
              "unique                   713  \n",
              "top     postpartum psychosis  \n",
              "freq                       4  "
            ],
            "text/html": [
              "\n",
              "  <div id=\"df-0be719c1-0c77-4961-9bf9-a694eeef805e\" class=\"colab-df-container\">\n",
              "    <div>\n",
              "<style scoped>\n",
              "    .dataframe tbody tr th:only-of-type {\n",
              "        vertical-align: middle;\n",
              "    }\n",
              "\n",
              "    .dataframe tbody tr th {\n",
              "        vertical-align: top;\n",
              "    }\n",
              "\n",
              "    .dataframe thead th {\n",
              "        text-align: right;\n",
              "    }\n",
              "</style>\n",
              "<table border=\"1\" class=\"dataframe\">\n",
              "  <thead>\n",
              "    <tr style=\"text-align: right;\">\n",
              "      <th></th>\n",
              "      <th>tag</th>\n",
              "      <th>pattern</th>\n",
              "      <th>response</th>\n",
              "      <th>processed_pattern</th>\n",
              "    </tr>\n",
              "  </thead>\n",
              "  <tbody>\n",
              "    <tr>\n",
              "      <th>count</th>\n",
              "      <td>780</td>\n",
              "      <td>780</td>\n",
              "      <td>780</td>\n",
              "      <td>780</td>\n",
              "    </tr>\n",
              "    <tr>\n",
              "      <th>unique</th>\n",
              "      <td>300</td>\n",
              "      <td>729</td>\n",
              "      <td>746</td>\n",
              "      <td>713</td>\n",
              "    </tr>\n",
              "    <tr>\n",
              "      <th>top</th>\n",
              "      <td>anxiety</td>\n",
              "      <td>What is postpartum psychosis?</td>\n",
              "      <td>Treatment for conduct disorder may include the...</td>\n",
              "      <td>postpartum psychosis</td>\n",
              "    </tr>\n",
              "    <tr>\n",
              "      <th>freq</th>\n",
              "      <td>49</td>\n",
              "      <td>4</td>\n",
              "      <td>2</td>\n",
              "      <td>4</td>\n",
              "    </tr>\n",
              "  </tbody>\n",
              "</table>\n",
              "</div>\n",
              "    <div class=\"colab-df-buttons\">\n",
              "\n",
              "  <div class=\"colab-df-container\">\n",
              "    <button class=\"colab-df-convert\" onclick=\"convertToInteractive('df-0be719c1-0c77-4961-9bf9-a694eeef805e')\"\n",
              "            title=\"Convert this dataframe to an interactive table.\"\n",
              "            style=\"display:none;\">\n",
              "\n",
              "  <svg xmlns=\"http://www.w3.org/2000/svg\" height=\"24px\" viewBox=\"0 -960 960 960\">\n",
              "    <path d=\"M120-120v-720h720v720H120Zm60-500h600v-160H180v160Zm220 220h160v-160H400v160Zm0 220h160v-160H400v160ZM180-400h160v-160H180v160Zm440 0h160v-160H620v160ZM180-180h160v-160H180v160Zm440 0h160v-160H620v160Z\"/>\n",
              "  </svg>\n",
              "    </button>\n",
              "\n",
              "  <style>\n",
              "    .colab-df-container {\n",
              "      display:flex;\n",
              "      gap: 12px;\n",
              "    }\n",
              "\n",
              "    .colab-df-convert {\n",
              "      background-color: #E8F0FE;\n",
              "      border: none;\n",
              "      border-radius: 50%;\n",
              "      cursor: pointer;\n",
              "      display: none;\n",
              "      fill: #1967D2;\n",
              "      height: 32px;\n",
              "      padding: 0 0 0 0;\n",
              "      width: 32px;\n",
              "    }\n",
              "\n",
              "    .colab-df-convert:hover {\n",
              "      background-color: #E2EBFA;\n",
              "      box-shadow: 0px 1px 2px rgba(60, 64, 67, 0.3), 0px 1px 3px 1px rgba(60, 64, 67, 0.15);\n",
              "      fill: #174EA6;\n",
              "    }\n",
              "\n",
              "    .colab-df-buttons div {\n",
              "      margin-bottom: 4px;\n",
              "    }\n",
              "\n",
              "    [theme=dark] .colab-df-convert {\n",
              "      background-color: #3B4455;\n",
              "      fill: #D2E3FC;\n",
              "    }\n",
              "\n",
              "    [theme=dark] .colab-df-convert:hover {\n",
              "      background-color: #434B5C;\n",
              "      box-shadow: 0px 1px 3px 1px rgba(0, 0, 0, 0.15);\n",
              "      filter: drop-shadow(0px 1px 2px rgba(0, 0, 0, 0.3));\n",
              "      fill: #FFFFFF;\n",
              "    }\n",
              "  </style>\n",
              "\n",
              "    <script>\n",
              "      const buttonEl =\n",
              "        document.querySelector('#df-0be719c1-0c77-4961-9bf9-a694eeef805e button.colab-df-convert');\n",
              "      buttonEl.style.display =\n",
              "        google.colab.kernel.accessAllowed ? 'block' : 'none';\n",
              "\n",
              "      async function convertToInteractive(key) {\n",
              "        const element = document.querySelector('#df-0be719c1-0c77-4961-9bf9-a694eeef805e');\n",
              "        const dataTable =\n",
              "          await google.colab.kernel.invokeFunction('convertToInteractive',\n",
              "                                                    [key], {});\n",
              "        if (!dataTable) return;\n",
              "\n",
              "        const docLinkHtml = 'Like what you see? Visit the ' +\n",
              "          '<a target=\"_blank\" href=https://colab.research.google.com/notebooks/data_table.ipynb>data table notebook</a>'\n",
              "          + ' to learn more about interactive tables.';\n",
              "        element.innerHTML = '';\n",
              "        dataTable['output_type'] = 'display_data';\n",
              "        await google.colab.output.renderOutput(dataTable, element);\n",
              "        const docLink = document.createElement('div');\n",
              "        docLink.innerHTML = docLinkHtml;\n",
              "        element.appendChild(docLink);\n",
              "      }\n",
              "    </script>\n",
              "  </div>\n",
              "\n",
              "\n",
              "<div id=\"df-1a3adffc-854e-4cea-8a61-97314d5dd775\">\n",
              "  <button class=\"colab-df-quickchart\" onclick=\"quickchart('df-1a3adffc-854e-4cea-8a61-97314d5dd775')\"\n",
              "            title=\"Suggest charts\"\n",
              "            style=\"display:none;\">\n",
              "\n",
              "<svg xmlns=\"http://www.w3.org/2000/svg\" height=\"24px\"viewBox=\"0 0 24 24\"\n",
              "     width=\"24px\">\n",
              "    <g>\n",
              "        <path d=\"M19 3H5c-1.1 0-2 .9-2 2v14c0 1.1.9 2 2 2h14c1.1 0 2-.9 2-2V5c0-1.1-.9-2-2-2zM9 17H7v-7h2v7zm4 0h-2V7h2v10zm4 0h-2v-4h2v4z\"/>\n",
              "    </g>\n",
              "</svg>\n",
              "  </button>\n",
              "\n",
              "<style>\n",
              "  .colab-df-quickchart {\n",
              "      --bg-color: #E8F0FE;\n",
              "      --fill-color: #1967D2;\n",
              "      --hover-bg-color: #E2EBFA;\n",
              "      --hover-fill-color: #174EA6;\n",
              "      --disabled-fill-color: #AAA;\n",
              "      --disabled-bg-color: #DDD;\n",
              "  }\n",
              "\n",
              "  [theme=dark] .colab-df-quickchart {\n",
              "      --bg-color: #3B4455;\n",
              "      --fill-color: #D2E3FC;\n",
              "      --hover-bg-color: #434B5C;\n",
              "      --hover-fill-color: #FFFFFF;\n",
              "      --disabled-bg-color: #3B4455;\n",
              "      --disabled-fill-color: #666;\n",
              "  }\n",
              "\n",
              "  .colab-df-quickchart {\n",
              "    background-color: var(--bg-color);\n",
              "    border: none;\n",
              "    border-radius: 50%;\n",
              "    cursor: pointer;\n",
              "    display: none;\n",
              "    fill: var(--fill-color);\n",
              "    height: 32px;\n",
              "    padding: 0;\n",
              "    width: 32px;\n",
              "  }\n",
              "\n",
              "  .colab-df-quickchart:hover {\n",
              "    background-color: var(--hover-bg-color);\n",
              "    box-shadow: 0 1px 2px rgba(60, 64, 67, 0.3), 0 1px 3px 1px rgba(60, 64, 67, 0.15);\n",
              "    fill: var(--button-hover-fill-color);\n",
              "  }\n",
              "\n",
              "  .colab-df-quickchart-complete:disabled,\n",
              "  .colab-df-quickchart-complete:disabled:hover {\n",
              "    background-color: var(--disabled-bg-color);\n",
              "    fill: var(--disabled-fill-color);\n",
              "    box-shadow: none;\n",
              "  }\n",
              "\n",
              "  .colab-df-spinner {\n",
              "    border: 2px solid var(--fill-color);\n",
              "    border-color: transparent;\n",
              "    border-bottom-color: var(--fill-color);\n",
              "    animation:\n",
              "      spin 1s steps(1) infinite;\n",
              "  }\n",
              "\n",
              "  @keyframes spin {\n",
              "    0% {\n",
              "      border-color: transparent;\n",
              "      border-bottom-color: var(--fill-color);\n",
              "      border-left-color: var(--fill-color);\n",
              "    }\n",
              "    20% {\n",
              "      border-color: transparent;\n",
              "      border-left-color: var(--fill-color);\n",
              "      border-top-color: var(--fill-color);\n",
              "    }\n",
              "    30% {\n",
              "      border-color: transparent;\n",
              "      border-left-color: var(--fill-color);\n",
              "      border-top-color: var(--fill-color);\n",
              "      border-right-color: var(--fill-color);\n",
              "    }\n",
              "    40% {\n",
              "      border-color: transparent;\n",
              "      border-right-color: var(--fill-color);\n",
              "      border-top-color: var(--fill-color);\n",
              "    }\n",
              "    60% {\n",
              "      border-color: transparent;\n",
              "      border-right-color: var(--fill-color);\n",
              "    }\n",
              "    80% {\n",
              "      border-color: transparent;\n",
              "      border-right-color: var(--fill-color);\n",
              "      border-bottom-color: var(--fill-color);\n",
              "    }\n",
              "    90% {\n",
              "      border-color: transparent;\n",
              "      border-bottom-color: var(--fill-color);\n",
              "    }\n",
              "  }\n",
              "</style>\n",
              "\n",
              "  <script>\n",
              "    async function quickchart(key) {\n",
              "      const quickchartButtonEl =\n",
              "        document.querySelector('#' + key + ' button');\n",
              "      quickchartButtonEl.disabled = true;  // To prevent multiple clicks.\n",
              "      quickchartButtonEl.classList.add('colab-df-spinner');\n",
              "      try {\n",
              "        const charts = await google.colab.kernel.invokeFunction(\n",
              "            'suggestCharts', [key], {});\n",
              "      } catch (error) {\n",
              "        console.error('Error during call to suggestCharts:', error);\n",
              "      }\n",
              "      quickchartButtonEl.classList.remove('colab-df-spinner');\n",
              "      quickchartButtonEl.classList.add('colab-df-quickchart-complete');\n",
              "    }\n",
              "    (() => {\n",
              "      let quickchartButtonEl =\n",
              "        document.querySelector('#df-1a3adffc-854e-4cea-8a61-97314d5dd775 button');\n",
              "      quickchartButtonEl.style.display =\n",
              "        google.colab.kernel.accessAllowed ? 'block' : 'none';\n",
              "    })();\n",
              "  </script>\n",
              "</div>\n",
              "\n",
              "    </div>\n",
              "  </div>\n"
            ],
            "application/vnd.google.colaboratory.intrinsic+json": {
              "type": "dataframe",
              "summary": "{\n  \"name\": \"df\",\n  \"rows\": 4,\n  \"fields\": [\n    {\n      \"column\": \"tag\",\n      \"properties\": {\n        \"dtype\": \"string\",\n        \"num_unique_values\": 4,\n        \"samples\": [\n          300,\n          \"49\",\n          \"780\"\n        ],\n        \"semantic_type\": \"\",\n        \"description\": \"\"\n      }\n    },\n    {\n      \"column\": \"pattern\",\n      \"properties\": {\n        \"dtype\": \"string\",\n        \"num_unique_values\": 4,\n        \"samples\": [\n          729,\n          \"4\",\n          \"780\"\n        ],\n        \"semantic_type\": \"\",\n        \"description\": \"\"\n      }\n    },\n    {\n      \"column\": \"response\",\n      \"properties\": {\n        \"dtype\": \"string\",\n        \"num_unique_values\": 4,\n        \"samples\": [\n          746,\n          \"2\",\n          \"780\"\n        ],\n        \"semantic_type\": \"\",\n        \"description\": \"\"\n      }\n    },\n    {\n      \"column\": \"processed_pattern\",\n      \"properties\": {\n        \"dtype\": \"string\",\n        \"num_unique_values\": 4,\n        \"samples\": [\n          713,\n          \"4\",\n          \"780\"\n        ],\n        \"semantic_type\": \"\",\n        \"description\": \"\"\n      }\n    }\n  ]\n}"
            }
          },
          "metadata": {},
          "execution_count": 13
        }
      ]
    },
    {
      "cell_type": "markdown",
      "source": [
        "# Model Training"
      ],
      "metadata": {
        "id": "aDu40jKg4wP6"
      }
    },
    {
      "cell_type": "code",
      "source": [
        "# Define the augment_data function\n",
        "def augment_data(df, multiplier=5):\n",
        "    augmented_data = pd.concat([df] * multiplier, ignore_index=True)\n",
        "    return augmented_data"
      ],
      "metadata": {
        "id": "urBqukNEBdTx"
      },
      "execution_count": 14,
      "outputs": []
    },
    {
      "cell_type": "markdown",
      "source": [
        "**Logistic Regression**"
      ],
      "metadata": {
        "id": "Bw50yEQ846qs"
      }
    },
    {
      "cell_type": "code",
      "source": [
        "\n",
        "def train_and_evaluate_lr(data_file):\n",
        "\n",
        "\n",
        "    # Data Augmentation (Example: Duplicate existing samples)\n",
        "    augmented_df = pd.concat([df] * 5, ignore_index=True)  # Duplicate each sample 5 times\n",
        "\n",
        "    # Combine original and augmented data\n",
        "    combined_df = pd.concat([df, augmented_df], ignore_index=True)\n",
        "\n",
        "    # Split the Combined Data\n",
        "    X_train, X_test, y_train, y_test = train_test_split(combined_df['processed_pattern'], combined_df['response'], test_size=0.3, random_state=42)\n",
        "    start_time = time.time()\n",
        "    # Define a pipeline with TF-IDF Vectorizer and Logistic Regression Classifier (a simpler model)\n",
        "    pipeline = Pipeline([\n",
        "        ('tfidf', TfidfVectorizer(ngram_range=(1, 2))),  # Using bi-grams\n",
        "        ('classifier', LogisticRegression(max_iter=1000, random_state=42))  # Logistic Regression Classifier\n",
        "    ])\n",
        "\n",
        "\n",
        "    # Train the pipeline\n",
        "    pipeline.fit(X_train, y_train)\n",
        "\n",
        "    end_time = time.time()\n",
        "\n",
        "    time_lr = end_time - start_time\n",
        "      # Predict on test data\n",
        "    y_pred = pipeline.predict(X_test)\n",
        "\n",
        "    # Calculate accuracy\n",
        "    accuracy = accuracy_score(y_test, y_pred)\n",
        "    return pipeline, accuracy, time_lr\n"
      ],
      "metadata": {
        "id": "raHrPMarxN9q"
      },
      "execution_count": 15,
      "outputs": []
    },
    {
      "cell_type": "code",
      "source": [
        "\n",
        "def predict_input_lr(pipeline, user_input):\n",
        "    predicted_response = pipeline.predict([user_input])[0]\n",
        "    return predicted_response\n",
        "\n",
        "# Example usage:\n",
        "trained_pipeline_lr, accuracy_lr, time_lr= train_and_evaluate_lr(df)\n",
        "print(\"Accuracy:\", accuracy_lr)\n",
        "print(\"Computation Time:\",time_lr)\n"
      ],
      "metadata": {
        "colab": {
          "base_uri": "https://localhost:8080/"
        },
        "id": "HR8I4uVo5yN4",
        "outputId": "26b1218c-a37b-4550-827b-a81eceb86ad2"
      },
      "execution_count": 16,
      "outputs": [
        {
          "output_type": "stream",
          "name": "stdout",
          "text": [
            "Accuracy: 0.7378917378917379\n",
            "Computation Time: 14.855388402938843\n"
          ]
        }
      ]
    },
    {
      "cell_type": "markdown",
      "source": [
        "**Support Vector Machine**"
      ],
      "metadata": {
        "id": "YNk6nSED7XlS"
      }
    },
    {
      "cell_type": "code",
      "source": [
        "def train_and_evaluate_svm(data_file):\n",
        "\n",
        "    # Load your dataset\n",
        "    df = data_file\n",
        "\n",
        "    # Data Augmentation (Example: Duplicate existing samples)\n",
        "    augmented_df = pd.concat([df] * 5, ignore_index=True)  # Duplicate each sample 5 times\n",
        "\n",
        "    # Combine original and augmented data\n",
        "    combined_df = pd.concat([df, augmented_df], ignore_index=True)\n",
        "\n",
        "    # Split the Combined Data\n",
        "    X_train, X_test, y_train, y_test = train_test_split(combined_df['processed_pattern'], combined_df['response'], test_size=0.3, random_state=42)\n",
        "\n",
        "    # Define a pipeline with TF-IDF Vectorizer and SVM Classifier with a non-linear kernel\n",
        "    pipeline = Pipeline([\n",
        "        ('tfidf', TfidfVectorizer(ngram_range=(1, 2))),  # Using bi-grams\n",
        "        ('classifier', SVC(kernel='rbf', C=1.0))  # SVM Classifier with a non-linear kernel\n",
        "    ])\n",
        "    start_time = time.time()\n",
        "    # Train the pipeline\n",
        "    pipeline.fit(X_train, y_train)\n",
        "    end_time = time.time()\n",
        "\n",
        "    time_svm = end_time - start_time\n",
        "    # Predict on test data\n",
        "    y_pred = pipeline.predict(X_test)\n",
        "\n",
        "    # Calculate accuracy\n",
        "    accuracy = accuracy_score(y_test, y_pred)\n",
        "    return pipeline, accuracy, time_svm\n",
        "\n",
        "\n"
      ],
      "metadata": {
        "id": "4h8AFOPgzL7r"
      },
      "execution_count": 17,
      "outputs": []
    },
    {
      "cell_type": "code",
      "source": [
        "def predict_input_svm(pipeline, user_input):\n",
        "    predicted_response = pipeline.predict([user_input])[0]\n",
        "    return predicted_response\n",
        "# def predict_input_svm(model, user_input, threshold=0.5):\n",
        "#     decision = model.decision_function([user_input])[0]\n",
        "#     max_decision = max(decision)\n",
        "#     predicted_response = model.predict([user_input])[0]\n",
        "#     if max_decision < threshold:\n",
        "#         return \"I'm not sure. Can you please rephrase?\"\n",
        "#     else:\n",
        "#         return predicted_response\n",
        "\n",
        "trained_pipeline_svm, accuracy_svm , time_svm = train_and_evaluate_svm(df)\n",
        "print(\"Accuracy:\", accuracy_svm)\n",
        "print(\"Computation Time:\",time_svm)\n",
        "\n",
        "\n",
        "\n"
      ],
      "metadata": {
        "colab": {
          "base_uri": "https://localhost:8080/"
        },
        "id": "HLy6DUz_7x5u",
        "outputId": "358c0b05-25b1-4830-cfcc-f08e9e9a1a23"
      },
      "execution_count": 18,
      "outputs": [
        {
          "output_type": "stream",
          "name": "stdout",
          "text": [
            "Accuracy: 0.9273504273504274\n",
            "Computation Time: 5.910269260406494\n"
          ]
        }
      ]
    },
    {
      "cell_type": "markdown",
      "source": [
        "**Decision Tree**"
      ],
      "metadata": {
        "id": "Vejk4JQw7_Qo"
      }
    },
    {
      "cell_type": "code",
      "source": [
        "\n",
        "# Data Augmentation\n",
        "augmented_df = augment_data(df)\n",
        "\n",
        "# Split the Data\n",
        "X_train, X_test, y_train, y_test = train_test_split(augmented_df['processed_pattern'], augmented_df['response'], test_size=0.3, random_state=42)\n",
        "\n",
        "\n",
        "# Define a pipeline with TF-IDF Vectorizer and Decision Tree Classifier\n",
        "pipeline_DTree = Pipeline([\n",
        "    ('tfidf', TfidfVectorizer(ngram_range=(1, 2))),  # Using bi-grams\n",
        "    ('classifier', DecisionTreeClassifier(random_state=42))  # Decision Tree Classifier\n",
        "])\n",
        "start_time = time.time()\n",
        "# Train the pipeline\n",
        "pipeline_DTree.fit(X_train, y_train)\n",
        "end_time = time.time()\n",
        "time_dt = end_time - start_time\n",
        "# Predict on test data\n",
        "y_pred = pipeline_DTree.predict(X_test)\n",
        "\n"
      ],
      "metadata": {
        "id": "u_QOqGYf1x3U"
      },
      "execution_count": 19,
      "outputs": []
    },
    {
      "cell_type": "code",
      "source": [
        "# Calculate accuracy\n",
        "accuracy_dt = accuracy_score(y_test, y_pred)\n",
        "print(\"Accuracy:\", accuracy_dt)\n",
        "\n",
        "print(\"Computation Time:\",time_dt)\n",
        "\n",
        "# Function to predict response\n",
        "def predict_response(user_input):\n",
        "    predicted_response = pipeline_DTree.predict([user_input])[0]\n",
        "    return predicted_response\n"
      ],
      "metadata": {
        "colab": {
          "base_uri": "https://localhost:8080/"
        },
        "id": "TezaQziw7-d8",
        "outputId": "2f5af56f-18c3-46e2-cd72-5ee6bb7a1c6f"
      },
      "execution_count": 20,
      "outputs": [
        {
          "output_type": "stream",
          "name": "stdout",
          "text": [
            "Accuracy: 0.9333333333333333\n",
            "Computation Time: 3.2111477851867676\n"
          ]
        }
      ]
    },
    {
      "cell_type": "markdown",
      "source": [
        "**Random forest classifier**"
      ],
      "metadata": {
        "id": "BBIyn1Ic87yi"
      }
    },
    {
      "cell_type": "code",
      "source": [
        "# Data Augmentation\n",
        "augmented_df = augment_data(df)\n",
        "\n",
        "# Split the Data\n",
        "X_train, X_test, y_train, y_test = train_test_split(augmented_df['processed_pattern'], augmented_df['response'], test_size=0.3, random_state=42)\n",
        "\n",
        "# Initialize TF-IDF Vectorizer\n",
        "tfidf_vectorizer = TfidfVectorizer(ngram_range=(1, 2))\n",
        "\n",
        "# Fit and transform the training data\n",
        "X_train_tfidf = tfidf_vectorizer.fit_transform(X_train)\n",
        "\n",
        "# Transform the test data\n",
        "X_test_tfidf = tfidf_vectorizer.transform(X_test)\n",
        "\n",
        "# Initialize Random Forest Classifier\n",
        "rf_classifier = RandomForestClassifier()\n",
        "start_time = time.time()\n",
        "# Train the Random Forest Classifier\n",
        "rf_classifier.fit(X_train_tfidf, y_train)\n",
        "end_time = time.time()\n",
        "time_rf = end_time - start_time\n"
      ],
      "metadata": {
        "id": "ruf_0HEc_LF7"
      },
      "execution_count": 21,
      "outputs": []
    },
    {
      "cell_type": "code",
      "source": [
        "# Predict on test data\n",
        "y_pred_rf = rf_classifier.predict(X_test_tfidf)\n",
        "\n",
        "# Calculate accuracy for Random Forest Classifier\n",
        "accuracy_rf = accuracy_score(y_test, y_pred_rf)\n",
        "print(\"Random Forest Classifier Accuracy:\", accuracy_rf)\n",
        "print(\"Computation Time:\",time_rf)"
      ],
      "metadata": {
        "colab": {
          "base_uri": "https://localhost:8080/"
        },
        "id": "DubDSnF8_U9I",
        "outputId": "c6498f19-d7d3-4da7-c3e3-4f7a6c8635bc"
      },
      "execution_count": 22,
      "outputs": [
        {
          "output_type": "stream",
          "name": "stdout",
          "text": [
            "Random Forest Classifier Accuracy: 0.9333333333333333\n",
            "Computation Time: 9.166960954666138\n"
          ]
        }
      ]
    },
    {
      "cell_type": "markdown",
      "source": [
        "**KNN model**"
      ],
      "metadata": {
        "id": "N-MwhXZM-S55"
      }
    },
    {
      "cell_type": "code",
      "source": [
        "# Data Augmentation\n",
        "augmented_df = augment_data(df)\n",
        "\n",
        "# Split the Data\n",
        "X_train, X_test, y_train, y_test = train_test_split(augmented_df['processed_pattern'], augmented_df['response'], test_size=0.3, random_state=42)\n",
        "\n",
        "# Initialize TF-IDF Vectorizer\n",
        "tfidf_vectorizer = TfidfVectorizer(ngram_range=(1, 2))\n",
        "\n",
        "# Fit and transform the training data\n",
        "X_train_tfidf = tfidf_vectorizer.fit_transform(X_train)\n",
        "\n",
        "# Transform the test data\n",
        "X_test_tfidf = tfidf_vectorizer.transform(X_test)\n",
        "\n",
        "# Initialize KNN Classifier\n",
        "knn_classifier = KNeighborsClassifier()\n",
        "start_time = time.time()\n",
        "# Train the KNN Classifier\n",
        "knn_classifier.fit(X_train_tfidf, y_train)\n",
        "end_time = time.time()\n",
        "time_knn = end_time - start_time\n"
      ],
      "metadata": {
        "id": "svo1BDMY-SGX"
      },
      "execution_count": 23,
      "outputs": []
    },
    {
      "cell_type": "code",
      "source": [
        "# Predict on test data\n",
        "y_pred_knn = knn_classifier.predict(X_test_tfidf)\n",
        "\n",
        "# Calculate accuracy for KNN Classifier\n",
        "accuracy_knn = accuracy_score(y_test, y_pred_knn)\n",
        "print(\"KNN Classifier Accuracy:\", accuracy_knn)\n",
        "print(\"Computation Time:\",time_knn)"
      ],
      "metadata": {
        "colab": {
          "base_uri": "https://localhost:8080/"
        },
        "id": "QnoA2S287w2P",
        "outputId": "8b9f844d-31a9-4664-893e-3ef8fda24d3c"
      },
      "execution_count": 24,
      "outputs": [
        {
          "output_type": "stream",
          "name": "stdout",
          "text": [
            "KNN Classifier Accuracy: 0.7247863247863248\n",
            "Computation Time: 0.008637666702270508\n"
          ]
        }
      ]
    },
    {
      "cell_type": "markdown",
      "source": [
        "# Accurancy graph"
      ],
      "metadata": {
        "id": "7N0I1ESGCSKZ"
      }
    },
    {
      "cell_type": "code",
      "source": [
        "# List of model names\n",
        "models = ['SVM', 'Logistic Regression', 'Random Forest', 'KNN', 'Decision Tree']\n",
        "\n",
        "# List of accuracies for each model\n",
        "accuracies = [accuracy_svm, accuracy_lr, accuracy_rf, accuracy_knn, accuracy_dt]\n",
        "\n",
        "# Plotting the bar plot\n",
        "plt.figure(figsize=(10, 6))\n",
        "plt.bar(models, accuracies, color='skyblue')\n",
        "plt.xlabel('Model')\n",
        "plt.ylabel('Accuracy')\n",
        "plt.title('Accuracy of Different Models')\n",
        "plt.ylim(0.0, 1.0)  # Set the y-axis limit from 0 to 1\n",
        "plt.show()"
      ],
      "metadata": {
        "colab": {
          "base_uri": "https://localhost:8080/",
          "height": 564
        },
        "id": "lRkFSKi6CYum",
        "outputId": "33a28ad5-97ad-4c25-94b1-fcbc97eeff15"
      },
      "execution_count": 25,
      "outputs": [
        {
          "output_type": "display_data",
          "data": {
            "text/plain": [
              "<Figure size 1000x600 with 1 Axes>"
            ],
            "image/png": "[encoded data removed]"
          },
          "metadata": {}
        }
      ]
    },
    {
      "cell_type": "markdown",
      "source": [
        "# Computation graph"
      ],
      "metadata": {
        "id": "U5l4oW2EMbDQ"
      }
    },
    {
      "cell_type": "code",
      "source": [
        "# List of computation times for each model (replace with actual times)\n",
        "computation_times = [time_svm, time_lr, time_rf, time_knn, time_dt]\n",
        "# Create a scatter plot with improved visibility\n",
        "plt.figure(figsize=(10, 6))\n",
        "plt.scatter(computation_times, models, color='skyblue', edgecolor='black', s=100, alpha=0.7)\n",
        "plt.xlabel('Computation Time (seconds)', fontsize=12)\n",
        "plt.ylabel('Model', fontsize=12)\n",
        "plt.title('Computation Time for Different Models', fontsize=14)\n",
        "plt.grid(True, linestyle='--', alpha=0.5)\n",
        "plt.show()"
      ],
      "metadata": {
        "colab": {
          "base_uri": "https://localhost:8080/",
          "height": 510
        },
        "id": "tb7bZVcmNEAp",
        "outputId": "1097212c-c88d-4462-ea6e-49ec62771e47"
      },
      "execution_count": 26,
      "outputs": [
        {
          "output_type": "display_data",
          "data": {
            "text/plain": [
              "<Figure size 1000x600 with 1 Axes>"
            ],
            "image/png": "[encoded data removed]"
          },
          "metadata": {}
        }
      ]
    },
    {
      "cell_type": "code",
      "source": [
        "# Create a scatter plot with improved visibility\n",
        "plt.figure(figsize=(10, 6))\n",
        "plt.scatter(computation_times, accuracies, color='skyblue', edgecolor='black', s=100, alpha=0.7)\n",
        "plt.xlabel('Computation Time (seconds)', fontsize=12)\n",
        "plt.ylabel('Accuracy', fontsize=12)\n",
        "plt.title('Accuracy vs. Computation Time for Different Models', fontsize=14)\n",
        "for model, time, accuracy in zip(models, computation_times, accuracies):\n",
        "    plt.annotate(model, (time, accuracy), xytext=(5, 5), textcoords='offset points', fontsize=10)\n",
        "plt.grid(True, linestyle='--', alpha=0.5)\n",
        "plt.show()\n"
      ],
      "metadata": {
        "colab": {
          "base_uri": "https://localhost:8080/",
          "height": 509
        },
        "id": "NjS6dWaEH9Z3",
        "outputId": "4f0d802c-1e5f-4fc7-a8cc-e8fa162db114"
      },
      "execution_count": 27,
      "outputs": [
        {
          "output_type": "display_data",
          "data": {
            "text/plain": [
              "<Figure size 1000x600 with 1 Axes>"
            ],
            "image/png": "[encoded data removed]"
          },
          "metadata": {}
        }
      ]
    },
    {
      "cell_type": "code",
      "source": [
        "# Fun responses\n",
        "fun_responses = [\n",
        "    \"I'm feeling a bit binary today. 0s and 1s.\",\n",
        "    \"Why did the computer go to the doctor? It had a virus!\",\n",
        "    \"I told my computer I needed a break, and it froze!\",\n",
        "    \"I'm reading a book on anti-gravity. It's impossible to put down!\",\n",
        "    \"Why don't programmers like nature? It has too many bugs!\",\n",
        "    \"I'm so good at sleeping, I can do it with my eyes closed.\",\n",
        "    \"I'm not lazy, I'm just in energy-saving mode.\",\n",
        "    \"I'm not a fan of computer jokes. Not one bit!\",\n",
        "    \"I'm reading a book about anti-gravity. It's out of this world!\",\n",
        "    \"I'm a big fan of whiteboards. They're re-markable!\",\n",
        "]"
      ],
      "metadata": {
        "id": "lceHltIRRJyZ"
      },
      "execution_count": 28,
      "outputs": []
    },
    {
      "cell_type": "code",
      "source": [
        "def chatbot():\n",
        "    print(\"Chatbot: Hello! I'm your mental health care assistant. Let's talk about how you're feeling today.\")\n",
        "    user_name = input(\"Chatbot: Before we begin, may I know your name please? \")\n",
        "\n",
        "    # Welcome the user by name\n",
        "    print(f\"Chatbot: Nice to meet you, {user_name}! How can I assist you today? Type 'exit' to end our conversation.\")\n",
        "\n",
        "    while True:\n",
        "        # Take the user's input\n",
        "        user_input = input(f\"{user_name}: \")\n",
        "\n",
        "        # Check if the user wants to exit the conversation\n",
        "        if user_input.lower() in ['exit', 'quit']:\n",
        "            print(f\"Chatbot: Thank you for talking with me, {user_name}. Take care!\")\n",
        "            break\n",
        "\n",
        "        # Check if the user wants to hear a joke or motivational quote\n",
        "        if 'joke' in user_input.lower():\n",
        "            response = random.choice(fun_responses)\n",
        "        else:\n",
        "            # Predict the response using the SVM model\n",
        "            response = predict_input_svm(trained_pipeline_svm, user_input)\n",
        "\n",
        "        print(f\"Chatbot: {response}\")\n"
      ],
      "metadata": {
        "id": "-Xw5JMjSiDxr"
      },
      "execution_count": 29,
      "outputs": []
    },
    {
      "cell_type": "code",
      "source": [
        "# Call the chatbot function to start the conversation\n",
        "chatbot()"
      ],
      "metadata": {
        "colab": {
          "base_uri": "https://localhost:8080/"
        },
        "id": "aZYX5h7qR5FF",
        "outputId": "59d96869-2e90-42eb-a44a-48eaaf6d0d73"
      },
      "execution_count": 30,
      "outputs": [
        {
          "output_type": "stream",
          "name": "stdout",
          "text": [
            "Chatbot: Hello! I'm your mental health care assistant. Let's talk about how you're feeling today.\n",
            "Chatbot: Before we begin, may I know your name please? exit\n",
            "Chatbot: Nice to meet you, exit! How can I assist you today? Type 'exit' to end our conversation.\n",
            "exit: exit\n",
            "Chatbot: Thank you for talking with me, exit. Take care!\n"
          ]
        }
      ]
    },
    {
      "cell_type": "code",
      "source": [
        "import joblib\n",
        "\n",
        "# Save model\n",
        "joblib.dump(trained_pipeline_svm, 'svm_model.joblib')\n",
        "\n",
        "# Save vectorizer\n",
        "# joblib.dump(vectorizer, 'tfidf_vectorizer.joblib')\n"
      ],
      "metadata": {
        "id": "XjlasjmheO02",
        "colab": {
          "base_uri": "https://localhost:8080/"
        },
        "outputId": "abd2f9c7-2e0a-4557-b7b6-c41e278531ce"
      },
      "execution_count": 32,
      "outputs": [
        {
          "output_type": "execute_result",
          "data": {
            "text/plain": [
              "['svm_model.joblib']"
            ]
          },
          "metadata": {},
          "execution_count": 32
        }
      ]
    },
    {
      "cell_type": "code",
      "source": [],
      "metadata": {
        "id": "pw0-ksqlQk70"
      },
      "execution_count": 32,
      "outputs": []
    }
  ],
  "metadata": {
    "colab": {
      "provenance": [],
      "gpuType": "T4"
    },
    "kernelspec": {
      "display_name": "Python 3",
      "name": "python3"
    },
    "language_info": {
      "name": "python"
    },
    "accelerator": "GPU"
  },
  "nbformat": 4,
  "nbformat_minor": 0
}