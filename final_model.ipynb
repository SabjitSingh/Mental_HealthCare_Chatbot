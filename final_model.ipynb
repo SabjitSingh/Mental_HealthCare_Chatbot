{
  "cells": [
    {
      "cell_type": "code",
      "execution_count": 52,
      "metadata": {
        "id": "BT_9bk7icBc3"
      },
      "outputs": [],
      "source": [
        "import spacy\n",
        "import pandas as pd\n",
        "from sklearn.feature_extraction.text import TfidfVectorizer\n",
        "from sklearn.model_selection import train_test_split\n",
        "from sklearn.svm import SVC\n",
        "from sklearn.metrics import classification_report, accuracy_score\n",
        "from sklearn.neighbors import KNeighborsClassifier\n",
        "from sklearn.linear_model import LogisticRegression\n",
        "from sklearn.tree import DecisionTreeClassifier\n",
        "from sklearn.ensemble import RandomForestClassifier\n",
        "from sklearn.pipeline import Pipeline\n",
        "import numpy as np\n",
        "import matplotlib.pyplot as plt\n",
        "import time\n",
        "import random"
      ]
    },
    {
      "cell_type": "code",
      "execution_count": 53,
      "metadata": {
        "id": "0wbGzg2JHdOP"
      },
      "outputs": [],
      "source": [
        "import json\n",
        "\n",
        "def load_data(filename):\n",
        "    with open(filename, 'r') as file:\n",
        "        data = json.load(file)\n",
        "    return data\n",
        "data=load_data('MentalhealthcareData.json')"
      ]
    },
    {
      "cell_type": "code",
      "execution_count": 54,
      "metadata": {
        "colab": {
          "base_uri": "https://localhost:8080/"
        },
        "id": "qupiwjRyJL1_",
        "outputId": "0cc8545e-410a-4b0a-fdb9-b186e78712b7"
      },
      "outputs": [
        {
          "name": "stdout",
          "output_type": "stream",
          "text": [
            "Collecting en-core-web-md==3.7.1\n",
            "  Downloading https://github.com/explosion/spacy-models/releases/download/en_core_web_md-3.7.1/en_core_web_md-3.7.1-py3-none-any.whl (42.8 MB)\n",
            "\u001b[2K     \u001b[90m━━━━━━━━━━━━━━━━━━━━━━━━━━━━━━━━━━━━━━━━\u001b[0m \u001b[32m42.8/42.8 MB\u001b[0m \u001b[31m7.9 MB/s\u001b[0m eta \u001b[36m0:00:00\u001b[0m\n",
            "\u001b[?25hRequirement already satisfied: spacy<3.8.0,>=3.7.2 in /usr/local/lib/python3.10/dist-packages (from en-core-web-md==3.7.1) (3.7.4)\n",
            "Requirement already satisfied: spacy-legacy<3.1.0,>=3.0.11 in /usr/local/lib/python3.10/dist-packages (from spacy<3.8.0,>=3.7.2->en-core-web-md==3.7.1) (3.0.12)\n",
            "Requirement already satisfied: spacy-loggers<2.0.0,>=1.0.0 in /usr/local/lib/python3.10/dist-packages (from spacy<3.8.0,>=3.7.2->en-core-web-md==3.7.1) (1.0.5)\n",
            "Requirement already satisfied: murmurhash<1.1.0,>=0.28.0 in /usr/local/lib/python3.10/dist-packages (from spacy<3.8.0,>=3.7.2->en-core-web-md==3.7.1) (1.0.10)\n",
            "Requirement already satisfied: cymem<2.1.0,>=2.0.2 in /usr/local/lib/python3.10/dist-packages (from spacy<3.8.0,>=3.7.2->en-core-web-md==3.7.1) (2.0.8)\n",
            "Requirement already satisfied: preshed<3.1.0,>=3.0.2 in /usr/local/lib/python3.10/dist-packages (from spacy<3.8.0,>=3.7.2->en-core-web-md==3.7.1) (3.0.9)\n",
            "Requirement already satisfied: thinc<8.3.0,>=8.2.2 in /usr/local/lib/python3.10/dist-packages (from spacy<3.8.0,>=3.7.2->en-core-web-md==3.7.1) (8.2.3)\n",
            "Requirement already satisfied: wasabi<1.2.0,>=0.9.1 in /usr/local/lib/python3.10/dist-packages (from spacy<3.8.0,>=3.7.2->en-core-web-md==3.7.1) (1.1.2)\n",
            "Requirement already satisfied: srsly<3.0.0,>=2.4.3 in /usr/local/lib/python3.10/dist-packages (from spacy<3.8.0,>=3.7.2->en-core-web-md==3.7.1) (2.4.8)\n",
            "Requirement already satisfied: catalogue<2.1.0,>=2.0.6 in /usr/local/lib/python3.10/dist-packages (from spacy<3.8.0,>=3.7.2->en-core-web-md==3.7.1) (2.0.10)\n",
            "Requirement already satisfied: weasel<0.4.0,>=0.1.0 in /usr/local/lib/python3.10/dist-packages (from spacy<3.8.0,>=3.7.2->en-core-web-md==3.7.1) (0.3.4)\n",
            "Requirement already satisfied: typer<0.10.0,>=0.3.0 in /usr/local/lib/python3.10/dist-packages (from spacy<3.8.0,>=3.7.2->en-core-web-md==3.7.1) (0.9.4)\n",
            "Requirement already satisfied: smart-open<7.0.0,>=5.2.1 in /usr/local/lib/python3.10/dist-packages (from spacy<3.8.0,>=3.7.2->en-core-web-md==3.7.1) (6.4.0)\n",
            "Requirement already satisfied: tqdm<5.0.0,>=4.38.0 in /usr/local/lib/python3.10/dist-packages (from spacy<3.8.0,>=3.7.2->en-core-web-md==3.7.1) (4.66.2)\n",
            "Requirement already satisfied: requests<3.0.0,>=2.13.0 in /usr/local/lib/python3.10/dist-packages (from spacy<3.8.0,>=3.7.2->en-core-web-md==3.7.1) (2.31.0)\n",
            "Requirement already satisfied: pydantic!=1.8,!=1.8.1,<3.0.0,>=1.7.4 in /usr/local/lib/python3.10/dist-packages (from spacy<3.8.0,>=3.7.2->en-core-web-md==3.7.1) (2.7.1)\n",
            "Requirement already satisfied: jinja2 in /usr/local/lib/python3.10/dist-packages (from spacy<3.8.0,>=3.7.2->en-core-web-md==3.7.1) (3.1.3)\n",
            "Requirement already satisfied: setuptools in /usr/local/lib/python3.10/dist-packages (from spacy<3.8.0,>=3.7.2->en-core-web-md==3.7.1) (67.7.2)\n",
            "Requirement already satisfied: packaging>=20.0 in /usr/local/lib/python3.10/dist-packages (from spacy<3.8.0,>=3.7.2->en-core-web-md==3.7.1) (24.0)\n",
            "Requirement already satisfied: langcodes<4.0.0,>=3.2.0 in /usr/local/lib/python3.10/dist-packages (from spacy<3.8.0,>=3.7.2->en-core-web-md==3.7.1) (3.4.0)\n",
            "Requirement already satisfied: numpy>=1.19.0 in /usr/local/lib/python3.10/dist-packages (from spacy<3.8.0,>=3.7.2->en-core-web-md==3.7.1) (1.25.2)\n",
            "Requirement already satisfied: language-data>=1.2 in /usr/local/lib/python3.10/dist-packages (from langcodes<4.0.0,>=3.2.0->spacy<3.8.0,>=3.7.2->en-core-web-md==3.7.1) (1.2.0)\n",
            "Requirement already satisfied: annotated-types>=0.4.0 in /usr/local/lib/python3.10/dist-packages (from pydantic!=1.8,!=1.8.1,<3.0.0,>=1.7.4->spacy<3.8.0,>=3.7.2->en-core-web-md==3.7.1) (0.6.0)\n",
            "Requirement already satisfied: pydantic-core==2.18.2 in /usr/local/lib/python3.10/dist-packages (from pydantic!=1.8,!=1.8.1,<3.0.0,>=1.7.4->spacy<3.8.0,>=3.7.2->en-core-web-md==3.7.1) (2.18.2)\n",
            "Requirement already satisfied: typing-extensions>=4.6.1 in /usr/local/lib/python3.10/dist-packages (from pydantic!=1.8,!=1.8.1,<3.0.0,>=1.7.4->spacy<3.8.0,>=3.7.2->en-core-web-md==3.7.1) (4.11.0)\n",
            "Requirement already satisfied: charset-normalizer<4,>=2 in /usr/local/lib/python3.10/dist-packages (from requests<3.0.0,>=2.13.0->spacy<3.8.0,>=3.7.2->en-core-web-md==3.7.1) (3.3.2)\n",
            "Requirement already satisfied: idna<4,>=2.5 in /usr/local/lib/python3.10/dist-packages (from requests<3.0.0,>=2.13.0->spacy<3.8.0,>=3.7.2->en-core-web-md==3.7.1) (3.7)\n",
            "Requirement already satisfied: urllib3<3,>=1.21.1 in /usr/local/lib/python3.10/dist-packages (from requests<3.0.0,>=2.13.0->spacy<3.8.0,>=3.7.2->en-core-web-md==3.7.1) (2.0.7)\n",
            "Requirement already satisfied: certifi>=2017.4.17 in /usr/local/lib/python3.10/dist-packages (from requests<3.0.0,>=2.13.0->spacy<3.8.0,>=3.7.2->en-core-web-md==3.7.1) (2024.2.2)\n",
            "Requirement already satisfied: blis<0.8.0,>=0.7.8 in /usr/local/lib/python3.10/dist-packages (from thinc<8.3.0,>=8.2.2->spacy<3.8.0,>=3.7.2->en-core-web-md==3.7.1) (0.7.11)\n",
            "Requirement already satisfied: confection<1.0.0,>=0.0.1 in /usr/local/lib/python3.10/dist-packages (from thinc<8.3.0,>=8.2.2->spacy<3.8.0,>=3.7.2->en-core-web-md==3.7.1) (0.1.4)\n",
            "Requirement already satisfied: click<9.0.0,>=7.1.1 in /usr/local/lib/python3.10/dist-packages (from typer<0.10.0,>=0.3.0->spacy<3.8.0,>=3.7.2->en-core-web-md==3.7.1) (8.1.7)\n",
            "Requirement already satisfied: cloudpathlib<0.17.0,>=0.7.0 in /usr/local/lib/python3.10/dist-packages (from weasel<0.4.0,>=0.1.0->spacy<3.8.0,>=3.7.2->en-core-web-md==3.7.1) (0.16.0)\n",
            "Requirement already satisfied: MarkupSafe>=2.0 in /usr/local/lib/python3.10/dist-packages (from jinja2->spacy<3.8.0,>=3.7.2->en-core-web-md==3.7.1) (2.1.5)\n",
            "Requirement already satisfied: marisa-trie>=0.7.7 in /usr/local/lib/python3.10/dist-packages (from language-data>=1.2->langcodes<4.0.0,>=3.2.0->spacy<3.8.0,>=3.7.2->en-core-web-md==3.7.1) (1.1.0)\n",
            "\u001b[38;5;2m✔ Download and installation successful\u001b[0m\n",
            "You can now load the package via spacy.load('en_core_web_md')\n",
            "\u001b[38;5;3m⚠ Restart to reload dependencies\u001b[0m\n",
            "If you are in a Jupyter or Colab notebook, you may need to restart Python in\n",
            "order to load all the package's dependencies. You can do this by selecting the\n",
            "'Restart kernel' or 'Restart runtime' option.\n"
          ]
        }
      ],
      "source": [
        "# !pip install spacy\n",
        "!python -m spacy download en_core_web_md\n"
      ]
    },
    {
      "cell_type": "code",
      "execution_count": 55,
      "metadata": {
        "id": "sqT5cmKDWsak"
      },
      "outputs": [],
      "source": [
        "nlp = spacy.load('en_core_web_md')"
      ]
    },
    {
      "cell_type": "code",
      "execution_count": 56,
      "metadata": {
        "colab": {
          "base_uri": "https://localhost:8080/"
        },
        "id": "3G6mflt6SHub",
        "outputId": "11d3ce00-b446-4678-daa9-22bb7d942820"
      },
      "outputs": [
        {
          "name": "stdout",
          "output_type": "stream",
          "text": [
            "example2 sentence demonstrate simple preprocessing function\n"
          ]
        }
      ],
      "source": [
        "\n",
        "def advanced_preprocess_text(text):\n",
        "    doc = nlp(text.lower())\n",
        "    cleaned_text = []\n",
        "    skip_next = False\n",
        "    for token in doc:\n",
        "        if skip_next:\n",
        "            skip_next = False\n",
        "            continue\n",
        "        if token.text == 'not' and token.i + 1 < len(doc):\n",
        "            cleaned_text.append(token.text + '_' + doc[token.i + 1].lemma_)\n",
        "            skip_next = True\n",
        "        elif not token.is_stop and not token.is_punct and token.lemma_ != \"-PRON-\":\n",
        "            if token.pos_ in ['NOUN', 'ADJ', 'VERB', 'ADV']:\n",
        "                cleaned_text.append(token.lemma_)\n",
        "    return \" \".join(cleaned_text)\n",
        "\n",
        "# Example use:\n",
        "text_example = \"This is an example2 sentence to demonstrate the simple preprocessing function..\"\n",
        "processed_text = advanced_preprocess_text(text_example)\n",
        "print(processed_text)  # Check output to see if it makes sense and isn't single characters\n"
      ]
    },
    {
      "cell_type": "code",
      "execution_count": 57,
      "metadata": {
        "id": "lZQxm7mkTFK-"
      },
      "outputs": [],
      "source": [
        "# Preprocess patterns in intents\n",
        "for intent in data['intents']:\n",
        "  intent['processed_pattern']   = advanced_preprocess_text(intent['pattern'])"
      ]
    },
    {
      "cell_type": "code",
      "execution_count": 58,
      "metadata": {
        "colab": {
          "base_uri": "https://localhost:8080/"
        },
        "id": "w6LXftJGUPRz",
        "outputId": "46bdb840-41fc-4ea2-e0eb-366c2e0b1f63"
      },
      "outputs": [
        {
          "name": "stdout",
          "output_type": "stream",
          "text": [
            "Original: How do I navigate cultural differences with my partner's family?\n",
            "Preprocessed: navigate cultural difference partner family\n",
            "\n",
            "Original: What should I do if my partner and I have different levels of emotional intelligence?\n",
            "Preprocessed: partner different level emotional intelligence\n",
            "\n",
            "Original: How can I support my partner through a career transition?\n",
            "Preprocessed: support partner career transition\n",
            "\n",
            "Original: What should I do if my partner and I have different parenting styles?\n",
            "Preprocessed: partner different parenting style\n",
            "\n",
            "Original: How do I handle disagreements about money with my partner?\n",
            "Preprocessed: handle disagreement money partner\n",
            "\n"
          ]
        }
      ],
      "source": [
        "for intent in data['intents'][:5]:\n",
        "    original_text = intent['pattern']\n",
        "    preprocessed_text =  intent['processed_pattern']\n",
        "    print(f\"Original: {original_text}\\nPreprocessed: {preprocessed_text}\\n\")"
      ]
    },
    {
      "cell_type": "code",
      "execution_count": 59,
      "metadata": {
        "id": "PTsfqawwYQRj"
      },
      "outputs": [],
      "source": [
        "#Convert JSON data into Dataframe\n",
        "df = pd.json_normalize(data['intents'])\n",
        "\n",
        "\n"
      ]
    },
    {
      "cell_type": "code",
      "execution_count": 60,
      "metadata": {
        "colab": {
          "base_uri": "https://localhost:8080/",
          "height": 206
        },
        "id": "nj3MHfmMcL5I",
        "outputId": "0b686f70-891f-4c21-c9b9-cac12eb6a3c0"
      },
      "outputs": [
        {
          "data": {
            "application/vnd.google.colaboratory.intrinsic+json": {
              "summary": "{\n  \"name\": \"df\",\n  \"rows\": 877,\n  \"fields\": [\n    {\n      \"column\": \"tag\",\n      \"properties\": {\n        \"dtype\": \"category\",\n        \"num_unique_values\": 312,\n        \"samples\": [\n          \"social-anxiety\",\n          \"Inquiry\",\n          \"Selective Serotonin Reuptake Inhibitors (SSRIs)\"\n        ],\n        \"semantic_type\": \"\",\n        \"description\": \"\"\n      }\n    },\n    {\n      \"column\": \"pattern\",\n      \"properties\": {\n        \"dtype\": \"string\",\n        \"num_unique_values\": 808,\n        \"samples\": [\n          \"Can Seasonal Affective Disorder be prevented?\",\n          \"What are some coping strategies for managing mental health in individuals living with HIV/AIDS?\",\n          \"Specific Phobias\"\n        ],\n        \"semantic_type\": \"\",\n        \"description\": \"\"\n      }\n    },\n    {\n      \"column\": \"response\",\n      \"properties\": {\n        \"dtype\": \"string\",\n        \"num_unique_values\": 826,\n        \"samples\": [\n          \"Perinatal depression can have significant effects on the baby's development and well-being. Maternal depression may interfere with maternal-infant bonding, caregiving behaviors, and the baby's socioemotional development. Babies of mothers with untreated perinatal depression may be at increased risk of developmental delays, behavioral problems, and emotional difficulties later in life.\",\n          \"While there is no cure for Alzheimer's disease, treatment focuses on managing symptoms and improving quality of life. Medications such as cholinesterase inhibitors and memantine may help improve cognitive function and manage behavioral symptoms. Non-drug interventions such as cognitive stimulation therapy, music therapy, and physical exercise may also be beneficial.\",\n          \"I appreciate the positive feedback! Let me know if there's anything else you need.\"\n        ],\n        \"semantic_type\": \"\",\n        \"description\": \"\"\n      }\n    },\n    {\n      \"column\": \"processed_pattern\",\n      \"properties\": {\n        \"dtype\": \"string\",\n        \"num_unique_values\": 763,\n        \"samples\": [\n          \"early intervention important child conduct disorder\",\n          \"role medication treat chronic pain\",\n          \"cognitive restructuring help improve mental health\"\n        ],\n        \"semantic_type\": \"\",\n        \"description\": \"\"\n      }\n    }\n  ]\n}",
              "type": "dataframe",
              "variable_name": "df"
            },
            "text/html": [
              "\n",
              "  <div id=\"df-14994ebd-6d55-401c-800a-a4057f3445b4\" class=\"colab-df-container\">\n",
              "    <div>\n",
              "<style scoped>\n",
              "    .dataframe tbody tr th:only-of-type {\n",
              "        vertical-align: middle;\n",
              "    }\n",
              "\n",
              "    .dataframe tbody tr th {\n",
              "        vertical-align: top;\n",
              "    }\n",
              "\n",
              "    .dataframe thead th {\n",
              "        text-align: right;\n",
              "    }\n",
              "</style>\n",
              "<table border=\"1\" class=\"dataframe\">\n",
              "  <thead>\n",
              "    <tr style=\"text-align: right;\">\n",
              "      <th></th>\n",
              "      <th>tag</th>\n",
              "      <th>pattern</th>\n",
              "      <th>response</th>\n",
              "      <th>processed_pattern</th>\n",
              "    </tr>\n",
              "  </thead>\n",
              "  <tbody>\n",
              "    <tr>\n",
              "      <th>0</th>\n",
              "      <td>relationship</td>\n",
              "      <td>How do I navigate cultural differences with my...</td>\n",
              "      <td>Navigating cultural differences with your part...</td>\n",
              "      <td>navigate cultural difference partner family</td>\n",
              "    </tr>\n",
              "    <tr>\n",
              "      <th>1</th>\n",
              "      <td>relationship</td>\n",
              "      <td>What should I do if my partner and I have diff...</td>\n",
              "      <td>Differences in emotional intelligence can impa...</td>\n",
              "      <td>partner different level emotional intelligence</td>\n",
              "    </tr>\n",
              "    <tr>\n",
              "      <th>2</th>\n",
              "      <td>relationship</td>\n",
              "      <td>How can I support my partner through a career ...</td>\n",
              "      <td>Supporting your partner through a career trans...</td>\n",
              "      <td>support partner career transition</td>\n",
              "    </tr>\n",
              "    <tr>\n",
              "      <th>3</th>\n",
              "      <td>relationship</td>\n",
              "      <td>What should I do if my partner and I have diff...</td>\n",
              "      <td>Differences in parenting styles can lead to co...</td>\n",
              "      <td>partner different parenting style</td>\n",
              "    </tr>\n",
              "    <tr>\n",
              "      <th>4</th>\n",
              "      <td>relationship</td>\n",
              "      <td>How do I handle disagreements about money with...</td>\n",
              "      <td>Disagreements about money are common in relati...</td>\n",
              "      <td>handle disagreement money partner</td>\n",
              "    </tr>\n",
              "  </tbody>\n",
              "</table>\n",
              "</div>\n",
              "    <div class=\"colab-df-buttons\">\n",
              "\n",
              "  <div class=\"colab-df-container\">\n",
              "    <button class=\"colab-df-convert\" onclick=\"convertToInteractive('df-14994ebd-6d55-401c-800a-a4057f3445b4')\"\n",
              "            title=\"Convert this dataframe to an interactive table.\"\n",
              "            style=\"display:none;\">\n",
              "\n",
              "  <svg xmlns=\"http://www.w3.org/2000/svg\" height=\"24px\" viewBox=\"0 -960 960 960\">\n",
              "    <path d=\"M120-120v-720h720v720H120Zm60-500h600v-160H180v160Zm220 220h160v-160H400v160Zm0 220h160v-160H400v160ZM180-400h160v-160H180v160Zm440 0h160v-160H620v160ZM180-180h160v-160H180v160Zm440 0h160v-160H620v160Z\"/>\n",
              "  </svg>\n",
              "    </button>\n",
              "\n",
              "  <style>\n",
              "    .colab-df-container {\n",
              "      display:flex;\n",
              "      gap: 12px;\n",
              "    }\n",
              "\n",
              "    .colab-df-convert {\n",
              "      background-color: #E8F0FE;\n",
              "      border: none;\n",
              "      border-radius: 50%;\n",
              "      cursor: pointer;\n",
              "      display: none;\n",
              "      fill: #1967D2;\n",
              "      height: 32px;\n",
              "      padding: 0 0 0 0;\n",
              "      width: 32px;\n",
              "    }\n",
              "\n",
              "    .colab-df-convert:hover {\n",
              "      background-color: #E2EBFA;\n",
              "      box-shadow: 0px 1px 2px rgba(60, 64, 67, 0.3), 0px 1px 3px 1px rgba(60, 64, 67, 0.15);\n",
              "      fill: #174EA6;\n",
              "    }\n",
              "\n",
              "    .colab-df-buttons div {\n",
              "      margin-bottom: 4px;\n",
              "    }\n",
              "\n",
              "    [theme=dark] .colab-df-convert {\n",
              "      background-color: #3B4455;\n",
              "      fill: #D2E3FC;\n",
              "    }\n",
              "\n",
              "    [theme=dark] .colab-df-convert:hover {\n",
              "      background-color: #434B5C;\n",
              "      box-shadow: 0px 1px 3px 1px rgba(0, 0, 0, 0.15);\n",
              "      filter: drop-shadow(0px 1px 2px rgba(0, 0, 0, 0.3));\n",
              "      fill: #FFFFFF;\n",
              "    }\n",
              "  </style>\n",
              "\n",
              "    <script>\n",
              "      const buttonEl =\n",
              "        document.querySelector('#df-14994ebd-6d55-401c-800a-a4057f3445b4 button.colab-df-convert');\n",
              "      buttonEl.style.display =\n",
              "        google.colab.kernel.accessAllowed ? 'block' : 'none';\n",
              "\n",
              "      async function convertToInteractive(key) {\n",
              "        const element = document.querySelector('#df-14994ebd-6d55-401c-800a-a4057f3445b4');\n",
              "        const dataTable =\n",
              "          await google.colab.kernel.invokeFunction('convertToInteractive',\n",
              "                                                    [key], {});\n",
              "        if (!dataTable) return;\n",
              "\n",
              "        const docLinkHtml = 'Like what you see? Visit the ' +\n",
              "          '<a target=\"_blank\" href=https://colab.research.google.com/notebooks/data_table.ipynb>data table notebook</a>'\n",
              "          + ' to learn more about interactive tables.';\n",
              "        element.innerHTML = '';\n",
              "        dataTable['output_type'] = 'display_data';\n",
              "        await google.colab.output.renderOutput(dataTable, element);\n",
              "        const docLink = document.createElement('div');\n",
              "        docLink.innerHTML = docLinkHtml;\n",
              "        element.appendChild(docLink);\n",
              "      }\n",
              "    </script>\n",
              "  </div>\n",
              "\n",
              "\n",
              "<div id=\"df-c7d9a21c-f5a5-4d00-96f0-80561ef975f7\">\n",
              "  <button class=\"colab-df-quickchart\" onclick=\"quickchart('df-c7d9a21c-f5a5-4d00-96f0-80561ef975f7')\"\n",
              "            title=\"Suggest charts\"\n",
              "            style=\"display:none;\">\n",
              "\n",
              "<svg xmlns=\"http://www.w3.org/2000/svg\" height=\"24px\"viewBox=\"0 0 24 24\"\n",
              "     width=\"24px\">\n",
              "    <g>\n",
              "        <path d=\"M19 3H5c-1.1 0-2 .9-2 2v14c0 1.1.9 2 2 2h14c1.1 0 2-.9 2-2V5c0-1.1-.9-2-2-2zM9 17H7v-7h2v7zm4 0h-2V7h2v10zm4 0h-2v-4h2v4z\"/>\n",
              "    </g>\n",
              "</svg>\n",
              "  </button>\n",
              "\n",
              "<style>\n",
              "  .colab-df-quickchart {\n",
              "      --bg-color: #E8F0FE;\n",
              "      --fill-color: #1967D2;\n",
              "      --hover-bg-color: #E2EBFA;\n",
              "      --hover-fill-color: #174EA6;\n",
              "      --disabled-fill-color: #AAA;\n",
              "      --disabled-bg-color: #DDD;\n",
              "  }\n",
              "\n",
              "  [theme=dark] .colab-df-quickchart {\n",
              "      --bg-color: #3B4455;\n",
              "      --fill-color: #D2E3FC;\n",
              "      --hover-bg-color: #434B5C;\n",
              "      --hover-fill-color: #FFFFFF;\n",
              "      --disabled-bg-color: #3B4455;\n",
              "      --disabled-fill-color: #666;\n",
              "  }\n",
              "\n",
              "  .colab-df-quickchart {\n",
              "    background-color: var(--bg-color);\n",
              "    border: none;\n",
              "    border-radius: 50%;\n",
              "    cursor: pointer;\n",
              "    display: none;\n",
              "    fill: var(--fill-color);\n",
              "    height: 32px;\n",
              "    padding: 0;\n",
              "    width: 32px;\n",
              "  }\n",
              "\n",
              "  .colab-df-quickchart:hover {\n",
              "    background-color: var(--hover-bg-color);\n",
              "    box-shadow: 0 1px 2px rgba(60, 64, 67, 0.3), 0 1px 3px 1px rgba(60, 64, 67, 0.15);\n",
              "    fill: var(--button-hover-fill-color);\n",
              "  }\n",
              "\n",
              "  .colab-df-quickchart-complete:disabled,\n",
              "  .colab-df-quickchart-complete:disabled:hover {\n",
              "    background-color: var(--disabled-bg-color);\n",
              "    fill: var(--disabled-fill-color);\n",
              "    box-shadow: none;\n",
              "  }\n",
              "\n",
              "  .colab-df-spinner {\n",
              "    border: 2px solid var(--fill-color);\n",
              "    border-color: transparent;\n",
              "    border-bottom-color: var(--fill-color);\n",
              "    animation:\n",
              "      spin 1s steps(1) infinite;\n",
              "  }\n",
              "\n",
              "  @keyframes spin {\n",
              "    0% {\n",
              "      border-color: transparent;\n",
              "      border-bottom-color: var(--fill-color);\n",
              "      border-left-color: var(--fill-color);\n",
              "    }\n",
              "    20% {\n",
              "      border-color: transparent;\n",
              "      border-left-color: var(--fill-color);\n",
              "      border-top-color: var(--fill-color);\n",
              "    }\n",
              "    30% {\n",
              "      border-color: transparent;\n",
              "      border-left-color: var(--fill-color);\n",
              "      border-top-color: var(--fill-color);\n",
              "      border-right-color: var(--fill-color);\n",
              "    }\n",
              "    40% {\n",
              "      border-color: transparent;\n",
              "      border-right-color: var(--fill-color);\n",
              "      border-top-color: var(--fill-color);\n",
              "    }\n",
              "    60% {\n",
              "      border-color: transparent;\n",
              "      border-right-color: var(--fill-color);\n",
              "    }\n",
              "    80% {\n",
              "      border-color: transparent;\n",
              "      border-right-color: var(--fill-color);\n",
              "      border-bottom-color: var(--fill-color);\n",
              "    }\n",
              "    90% {\n",
              "      border-color: transparent;\n",
              "      border-bottom-color: var(--fill-color);\n",
              "    }\n",
              "  }\n",
              "</style>\n",
              "\n",
              "  <script>\n",
              "    async function quickchart(key) {\n",
              "      const quickchartButtonEl =\n",
              "        document.querySelector('#' + key + ' button');\n",
              "      quickchartButtonEl.disabled = true;  // To prevent multiple clicks.\n",
              "      quickchartButtonEl.classList.add('colab-df-spinner');\n",
              "      try {\n",
              "        const charts = await google.colab.kernel.invokeFunction(\n",
              "            'suggestCharts', [key], {});\n",
              "      } catch (error) {\n",
              "        console.error('Error during call to suggestCharts:', error);\n",
              "      }\n",
              "      quickchartButtonEl.classList.remove('colab-df-spinner');\n",
              "      quickchartButtonEl.classList.add('colab-df-quickchart-complete');\n",
              "    }\n",
              "    (() => {\n",
              "      let quickchartButtonEl =\n",
              "        document.querySelector('#df-c7d9a21c-f5a5-4d00-96f0-80561ef975f7 button');\n",
              "      quickchartButtonEl.style.display =\n",
              "        google.colab.kernel.accessAllowed ? 'block' : 'none';\n",
              "    })();\n",
              "  </script>\n",
              "</div>\n",
              "\n",
              "    </div>\n",
              "  </div>\n"
            ],
            "text/plain": [
              "            tag                                            pattern  \\\n",
              "0  relationship  How do I navigate cultural differences with my...   \n",
              "1  relationship  What should I do if my partner and I have diff...   \n",
              "2  relationship  How can I support my partner through a career ...   \n",
              "3  relationship  What should I do if my partner and I have diff...   \n",
              "4  relationship  How do I handle disagreements about money with...   \n",
              "\n",
              "                                            response  \\\n",
              "0  Navigating cultural differences with your part...   \n",
              "1  Differences in emotional intelligence can impa...   \n",
              "2  Supporting your partner through a career trans...   \n",
              "3  Differences in parenting styles can lead to co...   \n",
              "4  Disagreements about money are common in relati...   \n",
              "\n",
              "                                processed_pattern  \n",
              "0     navigate cultural difference partner family  \n",
              "1  partner different level emotional intelligence  \n",
              "2               support partner career transition  \n",
              "3               partner different parenting style  \n",
              "4               handle disagreement money partner  "
            ]
          },
          "execution_count": 60,
          "metadata": {},
          "output_type": "execute_result"
        }
      ],
      "source": [
        "df.head()"
      ]
    },
    {
      "cell_type": "code",
      "execution_count": 61,
      "metadata": {
        "colab": {
          "base_uri": "https://localhost:8080/"
        },
        "id": "1QbZ_qGe4IYf",
        "outputId": "1f8c735a-a5a2-44e5-9931-5163bb5bdf83"
      },
      "outputs": [
        {
          "name": "stdout",
          "output_type": "stream",
          "text": [
            "<class 'pandas.core.frame.DataFrame'>\n",
            "RangeIndex: 877 entries, 0 to 876\n",
            "Data columns (total 4 columns):\n",
            " #   Column             Non-Null Count  Dtype \n",
            "---  ------             --------------  ----- \n",
            " 0   tag                877 non-null    object\n",
            " 1   pattern            877 non-null    object\n",
            " 2   response           877 non-null    object\n",
            " 3   processed_pattern  877 non-null    object\n",
            "dtypes: object(4)\n",
            "memory usage: 27.5+ KB\n"
          ]
        }
      ],
      "source": [
        "df.info()"
      ]
    },
    {
      "cell_type": "code",
      "execution_count": 62,
      "metadata": {
        "colab": {
          "base_uri": "https://localhost:8080/",
          "height": 175
        },
        "id": "ZP4IIlCCeDWw",
        "outputId": "794ad4b6-2787-4a44-80b8-6a9e70ce3a24"
      },
      "outputs": [
        {
          "data": {
            "application/vnd.google.colaboratory.intrinsic+json": {
              "summary": "{\n  \"name\": \"df\",\n  \"rows\": 4,\n  \"fields\": [\n    {\n      \"column\": \"tag\",\n      \"properties\": {\n        \"dtype\": \"string\",\n        \"num_unique_values\": 4,\n        \"samples\": [\n          312,\n          \"49\",\n          \"877\"\n        ],\n        \"semantic_type\": \"\",\n        \"description\": \"\"\n      }\n    },\n    {\n      \"column\": \"pattern\",\n      \"properties\": {\n        \"dtype\": \"string\",\n        \"num_unique_values\": 4,\n        \"samples\": [\n          808,\n          \"4\",\n          \"877\"\n        ],\n        \"semantic_type\": \"\",\n        \"description\": \"\"\n      }\n    },\n    {\n      \"column\": \"response\",\n      \"properties\": {\n        \"dtype\": \"string\",\n        \"num_unique_values\": 4,\n        \"samples\": [\n          826,\n          \"3\",\n          \"877\"\n        ],\n        \"semantic_type\": \"\",\n        \"description\": \"\"\n      }\n    },\n    {\n      \"column\": \"processed_pattern\",\n      \"properties\": {\n        \"dtype\": \"date\",\n        \"min\": \"1970-01-01 00:00:00.000000026\",\n        \"max\": \"1970-01-01 00:00:00.000000877\",\n        \"num_unique_values\": 4,\n        \"samples\": [\n          763,\n          \"26\",\n          \"877\"\n        ],\n        \"semantic_type\": \"\",\n        \"description\": \"\"\n      }\n    }\n  ]\n}",
              "type": "dataframe"
            },
            "text/html": [
              "\n",
              "  <div id=\"df-f252f1f7-f8eb-4b84-9fdd-b286307846a3\" class=\"colab-df-container\">\n",
              "    <div>\n",
              "<style scoped>\n",
              "    .dataframe tbody tr th:only-of-type {\n",
              "        vertical-align: middle;\n",
              "    }\n",
              "\n",
              "    .dataframe tbody tr th {\n",
              "        vertical-align: top;\n",
              "    }\n",
              "\n",
              "    .dataframe thead th {\n",
              "        text-align: right;\n",
              "    }\n",
              "</style>\n",
              "<table border=\"1\" class=\"dataframe\">\n",
              "  <thead>\n",
              "    <tr style=\"text-align: right;\">\n",
              "      <th></th>\n",
              "      <th>tag</th>\n",
              "      <th>pattern</th>\n",
              "      <th>response</th>\n",
              "      <th>processed_pattern</th>\n",
              "    </tr>\n",
              "  </thead>\n",
              "  <tbody>\n",
              "    <tr>\n",
              "      <th>count</th>\n",
              "      <td>877</td>\n",
              "      <td>877</td>\n",
              "      <td>877</td>\n",
              "      <td>877</td>\n",
              "    </tr>\n",
              "    <tr>\n",
              "      <th>unique</th>\n",
              "      <td>312</td>\n",
              "      <td>808</td>\n",
              "      <td>826</td>\n",
              "      <td>763</td>\n",
              "    </tr>\n",
              "    <tr>\n",
              "      <th>top</th>\n",
              "      <td>anxiety</td>\n",
              "      <td>What is postpartum psychosis?</td>\n",
              "      <td>No problem! Happy to assist.</td>\n",
              "      <td></td>\n",
              "    </tr>\n",
              "    <tr>\n",
              "      <th>freq</th>\n",
              "      <td>49</td>\n",
              "      <td>4</td>\n",
              "      <td>3</td>\n",
              "      <td>26</td>\n",
              "    </tr>\n",
              "  </tbody>\n",
              "</table>\n",
              "</div>\n",
              "    <div class=\"colab-df-buttons\">\n",
              "\n",
              "  <div class=\"colab-df-container\">\n",
              "    <button class=\"colab-df-convert\" onclick=\"convertToInteractive('df-f252f1f7-f8eb-4b84-9fdd-b286307846a3')\"\n",
              "            title=\"Convert this dataframe to an interactive table.\"\n",
              "            style=\"display:none;\">\n",
              "\n",
              "  <svg xmlns=\"http://www.w3.org/2000/svg\" height=\"24px\" viewBox=\"0 -960 960 960\">\n",
              "    <path d=\"M120-120v-720h720v720H120Zm60-500h600v-160H180v160Zm220 220h160v-160H400v160Zm0 220h160v-160H400v160ZM180-400h160v-160H180v160Zm440 0h160v-160H620v160ZM180-180h160v-160H180v160Zm440 0h160v-160H620v160Z\"/>\n",
              "  </svg>\n",
              "    </button>\n",
              "\n",
              "  <style>\n",
              "    .colab-df-container {\n",
              "      display:flex;\n",
              "      gap: 12px;\n",
              "    }\n",
              "\n",
              "    .colab-df-convert {\n",
              "      background-color: #E8F0FE;\n",
              "      border: none;\n",
              "      border-radius: 50%;\n",
              "      cursor: pointer;\n",
              "      display: none;\n",
              "      fill: #1967D2;\n",
              "      height: 32px;\n",
              "      padding: 0 0 0 0;\n",
              "      width: 32px;\n",
              "    }\n",
              "\n",
              "    .colab-df-convert:hover {\n",
              "      background-color: #E2EBFA;\n",
              "      box-shadow: 0px 1px 2px rgba(60, 64, 67, 0.3), 0px 1px 3px 1px rgba(60, 64, 67, 0.15);\n",
              "      fill: #174EA6;\n",
              "    }\n",
              "\n",
              "    .colab-df-buttons div {\n",
              "      margin-bottom: 4px;\n",
              "    }\n",
              "\n",
              "    [theme=dark] .colab-df-convert {\n",
              "      background-color: #3B4455;\n",
              "      fill: #D2E3FC;\n",
              "    }\n",
              "\n",
              "    [theme=dark] .colab-df-convert:hover {\n",
              "      background-color: #434B5C;\n",
              "      box-shadow: 0px 1px 3px 1px rgba(0, 0, 0, 0.15);\n",
              "      filter: drop-shadow(0px 1px 2px rgba(0, 0, 0, 0.3));\n",
              "      fill: #FFFFFF;\n",
              "    }\n",
              "  </style>\n",
              "\n",
              "    <script>\n",
              "      const buttonEl =\n",
              "        document.querySelector('#df-f252f1f7-f8eb-4b84-9fdd-b286307846a3 button.colab-df-convert');\n",
              "      buttonEl.style.display =\n",
              "        google.colab.kernel.accessAllowed ? 'block' : 'none';\n",
              "\n",
              "      async function convertToInteractive(key) {\n",
              "        const element = document.querySelector('#df-f252f1f7-f8eb-4b84-9fdd-b286307846a3');\n",
              "        const dataTable =\n",
              "          await google.colab.kernel.invokeFunction('convertToInteractive',\n",
              "                                                    [key], {});\n",
              "        if (!dataTable) return;\n",
              "\n",
              "        const docLinkHtml = 'Like what you see? Visit the ' +\n",
              "          '<a target=\"_blank\" href=https://colab.research.google.com/notebooks/data_table.ipynb>data table notebook</a>'\n",
              "          + ' to learn more about interactive tables.';\n",
              "        element.innerHTML = '';\n",
              "        dataTable['output_type'] = 'display_data';\n",
              "        await google.colab.output.renderOutput(dataTable, element);\n",
              "        const docLink = document.createElement('div');\n",
              "        docLink.innerHTML = docLinkHtml;\n",
              "        element.appendChild(docLink);\n",
              "      }\n",
              "    </script>\n",
              "  </div>\n",
              "\n",
              "\n",
              "<div id=\"df-7cc40968-c6ff-42b6-b639-ef718d049eab\">\n",
              "  <button class=\"colab-df-quickchart\" onclick=\"quickchart('df-7cc40968-c6ff-42b6-b639-ef718d049eab')\"\n",
              "            title=\"Suggest charts\"\n",
              "            style=\"display:none;\">\n",
              "\n",
              "<svg xmlns=\"http://www.w3.org/2000/svg\" height=\"24px\"viewBox=\"0 0 24 24\"\n",
              "     width=\"24px\">\n",
              "    <g>\n",
              "        <path d=\"M19 3H5c-1.1 0-2 .9-2 2v14c0 1.1.9 2 2 2h14c1.1 0 2-.9 2-2V5c0-1.1-.9-2-2-2zM9 17H7v-7h2v7zm4 0h-2V7h2v10zm4 0h-2v-4h2v4z\"/>\n",
              "    </g>\n",
              "</svg>\n",
              "  </button>\n",
              "\n",
              "<style>\n",
              "  .colab-df-quickchart {\n",
              "      --bg-color: #E8F0FE;\n",
              "      --fill-color: #1967D2;\n",
              "      --hover-bg-color: #E2EBFA;\n",
              "      --hover-fill-color: #174EA6;\n",
              "      --disabled-fill-color: #AAA;\n",
              "      --disabled-bg-color: #DDD;\n",
              "  }\n",
              "\n",
              "  [theme=dark] .colab-df-quickchart {\n",
              "      --bg-color: #3B4455;\n",
              "      --fill-color: #D2E3FC;\n",
              "      --hover-bg-color: #434B5C;\n",
              "      --hover-fill-color: #FFFFFF;\n",
              "      --disabled-bg-color: #3B4455;\n",
              "      --disabled-fill-color: #666;\n",
              "  }\n",
              "\n",
              "  .colab-df-quickchart {\n",
              "    background-color: var(--bg-color);\n",
              "    border: none;\n",
              "    border-radius: 50%;\n",
              "    cursor: pointer;\n",
              "    display: none;\n",
              "    fill: var(--fill-color);\n",
              "    height: 32px;\n",
              "    padding: 0;\n",
              "    width: 32px;\n",
              "  }\n",
              "\n",
              "  .colab-df-quickchart:hover {\n",
              "    background-color: var(--hover-bg-color);\n",
              "    box-shadow: 0 1px 2px rgba(60, 64, 67, 0.3), 0 1px 3px 1px rgba(60, 64, 67, 0.15);\n",
              "    fill: var(--button-hover-fill-color);\n",
              "  }\n",
              "\n",
              "  .colab-df-quickchart-complete:disabled,\n",
              "  .colab-df-quickchart-complete:disabled:hover {\n",
              "    background-color: var(--disabled-bg-color);\n",
              "    fill: var(--disabled-fill-color);\n",
              "    box-shadow: none;\n",
              "  }\n",
              "\n",
              "  .colab-df-spinner {\n",
              "    border: 2px solid var(--fill-color);\n",
              "    border-color: transparent;\n",
              "    border-bottom-color: var(--fill-color);\n",
              "    animation:\n",
              "      spin 1s steps(1) infinite;\n",
              "  }\n",
              "\n",
              "  @keyframes spin {\n",
              "    0% {\n",
              "      border-color: transparent;\n",
              "      border-bottom-color: var(--fill-color);\n",
              "      border-left-color: var(--fill-color);\n",
              "    }\n",
              "    20% {\n",
              "      border-color: transparent;\n",
              "      border-left-color: var(--fill-color);\n",
              "      border-top-color: var(--fill-color);\n",
              "    }\n",
              "    30% {\n",
              "      border-color: transparent;\n",
              "      border-left-color: var(--fill-color);\n",
              "      border-top-color: var(--fill-color);\n",
              "      border-right-color: var(--fill-color);\n",
              "    }\n",
              "    40% {\n",
              "      border-color: transparent;\n",
              "      border-right-color: var(--fill-color);\n",
              "      border-top-color: var(--fill-color);\n",
              "    }\n",
              "    60% {\n",
              "      border-color: transparent;\n",
              "      border-right-color: var(--fill-color);\n",
              "    }\n",
              "    80% {\n",
              "      border-color: transparent;\n",
              "      border-right-color: var(--fill-color);\n",
              "      border-bottom-color: var(--fill-color);\n",
              "    }\n",
              "    90% {\n",
              "      border-color: transparent;\n",
              "      border-bottom-color: var(--fill-color);\n",
              "    }\n",
              "  }\n",
              "</style>\n",
              "\n",
              "  <script>\n",
              "    async function quickchart(key) {\n",
              "      const quickchartButtonEl =\n",
              "        document.querySelector('#' + key + ' button');\n",
              "      quickchartButtonEl.disabled = true;  // To prevent multiple clicks.\n",
              "      quickchartButtonEl.classList.add('colab-df-spinner');\n",
              "      try {\n",
              "        const charts = await google.colab.kernel.invokeFunction(\n",
              "            'suggestCharts', [key], {});\n",
              "      } catch (error) {\n",
              "        console.error('Error during call to suggestCharts:', error);\n",
              "      }\n",
              "      quickchartButtonEl.classList.remove('colab-df-spinner');\n",
              "      quickchartButtonEl.classList.add('colab-df-quickchart-complete');\n",
              "    }\n",
              "    (() => {\n",
              "      let quickchartButtonEl =\n",
              "        document.querySelector('#df-7cc40968-c6ff-42b6-b639-ef718d049eab button');\n",
              "      quickchartButtonEl.style.display =\n",
              "        google.colab.kernel.accessAllowed ? 'block' : 'none';\n",
              "    })();\n",
              "  </script>\n",
              "</div>\n",
              "\n",
              "    </div>\n",
              "  </div>\n"
            ],
            "text/plain": [
              "            tag                        pattern                      response  \\\n",
              "count       877                            877                           877   \n",
              "unique      312                            808                           826   \n",
              "top     anxiety  What is postpartum psychosis?  No problem! Happy to assist.   \n",
              "freq         49                              4                             3   \n",
              "\n",
              "       processed_pattern  \n",
              "count                877  \n",
              "unique               763  \n",
              "top                       \n",
              "freq                  26  "
            ]
          },
          "execution_count": 62,
          "metadata": {},
          "output_type": "execute_result"
        }
      ],
      "source": [
        "df.describe()\n"
      ]
    },
    {
      "cell_type": "markdown",
      "metadata": {
        "id": "aDu40jKg4wP6"
      },
      "source": [
        "# Model Training"
      ]
    },
    {
      "cell_type": "code",
      "execution_count": 63,
      "metadata": {
        "id": "urBqukNEBdTx"
      },
      "outputs": [],
      "source": [
        "# Define the augment_data function\n",
        "def augment_data(df, multiplier=5):\n",
        "    augmented_data = pd.concat([df] * multiplier, ignore_index=True)\n",
        "    return augmented_data"
      ]
    },
    {
      "cell_type": "markdown",
      "metadata": {
        "id": "Bw50yEQ846qs"
      },
      "source": [
        "**Logistic Regression**"
      ]
    },
    {
      "cell_type": "code",
      "execution_count": 64,
      "metadata": {
        "id": "raHrPMarxN9q"
      },
      "outputs": [],
      "source": [
        "\n",
        "def train_and_evaluate_lr(data_file):\n",
        "\n",
        "\n",
        "    # Data Augmentation (Example: Duplicate existing samples)\n",
        "    augmented_df = pd.concat([df] * 5, ignore_index=True)  # Duplicate each sample 5 times\n",
        "\n",
        "    # Combine original and augmented data\n",
        "    combined_df = pd.concat([df, augmented_df], ignore_index=True)\n",
        "\n",
        "    # Split the Combined Data\n",
        "    X_train, X_test, y_train, y_test = train_test_split(combined_df['pattern'], combined_df['response'], test_size=0.3, random_state=42)\n",
        "    start_time = time.time()\n",
        "    # Define a pipeline with TF-IDF Vectorizer and Logistic Regression Classifier (a simpler model)\n",
        "    pipeline = Pipeline([\n",
        "        ('tfidf', TfidfVectorizer(ngram_range=(1, 2))),  # Using bi-grams\n",
        "        ('classifier', LogisticRegression(max_iter=1000, random_state=42))  # Logistic Regression Classifier\n",
        "    ])\n",
        "\n",
        "\n",
        "    # Train the pipeline\n",
        "    pipeline.fit(X_train, y_train)\n",
        "\n",
        "    end_time = time.time()\n",
        "\n",
        "    time_lr = end_time - start_time\n",
        "      # Predict on test data\n",
        "    y_pred = pipeline.predict(X_test)\n",
        "\n",
        "    # Calculate accuracy\n",
        "    accuracy = accuracy_score(y_test, y_pred)\n",
        "    return pipeline, accuracy, time_lr\n"
      ]
    },
    {
      "cell_type": "code",
      "execution_count": 65,
      "metadata": {
        "colab": {
          "base_uri": "https://localhost:8080/"
        },
        "id": "HR8I4uVo5yN4",
        "outputId": "af7b972c-2250-440c-a4f7-f72f7ce73224"
      },
      "outputs": [
        {
          "name": "stdout",
          "output_type": "stream",
          "text": [
            "Accuracy: 0.7118429385687144\n",
            "Computation Time: 16.633283138275146\n"
          ]
        }
      ],
      "source": [
        "\n",
        "def predict_input_lr(pipeline, user_input):\n",
        "    predicted_response = pipeline.predict([user_input])[0]\n",
        "    return predicted_response\n",
        "\n",
        "\n",
        "trained_pipeline_lr, accuracy_lr, time_lr= train_and_evaluate_lr(df)\n",
        "print(\"Accuracy:\", accuracy_lr)\n",
        "print(\"Computation Time:\",time_lr)\n"
      ]
    },
    {
      "cell_type": "markdown",
      "metadata": {
        "id": "YNk6nSED7XlS"
      },
      "source": [
        "**Support Vector Machine**"
      ]
    },
    {
      "cell_type": "code",
      "execution_count": 66,
      "metadata": {
        "id": "4h8AFOPgzL7r"
      },
      "outputs": [],
      "source": [
        "def train_and_evaluate_svm(data_file):\n",
        "\n",
        "    # Load your dataset\n",
        "    df = data_file\n",
        "\n",
        "    # Data Augmentation (Example: Duplicate existing samples)\n",
        "    augmented_df = pd.concat([df] * 5, ignore_index=True)  # Duplicate each sample 5 times\n",
        "\n",
        "    # Combine original and augmented data\n",
        "    combined_df = pd.concat([df, augmented_df], ignore_index=True)\n",
        "\n",
        "    # Split the Combined Data\n",
        "    X_train, X_test, y_train, y_test = train_test_split(combined_df['pattern'], combined_df['response'], test_size=0.3, random_state=42)\n",
        "\n",
        "    # Define a pipeline with TF-IDF Vectorizer and SVM Classifier with a non-linear kernel\n",
        "    pipeline = Pipeline([\n",
        "        ('tfidf', TfidfVectorizer(ngram_range=(1, 2))),  # Using bi-grams\n",
        "        ('classifier', SVC(kernel='rbf', C=1.0))  # SVM Classifier with a non-linear kernel\n",
        "    ])\n",
        "    start_time = time.time()\n",
        "    # Train the pipeline\n",
        "    pipeline.fit(X_train, y_train)\n",
        "    end_time = time.time()\n",
        "\n",
        "    time_svm = end_time - start_time\n",
        "    # Predict on test data\n",
        "    y_pred = pipeline.predict(X_test)\n",
        "\n",
        "    # Calculate accuracy\n",
        "    accuracy = accuracy_score(y_test, y_pred)\n",
        "    return pipeline, accuracy, time_svm\n",
        "\n",
        "\n"
      ]
    },
    {
      "cell_type": "code",
      "execution_count": 67,
      "metadata": {
        "colab": {
          "base_uri": "https://localhost:8080/"
        },
        "id": "HLy6DUz_7x5u",
        "outputId": "a656ce35-cfef-4613-a0c9-3d13af35108d"
      },
      "outputs": [
        {
          "name": "stdout",
          "output_type": "stream",
          "text": [
            "Accuracy: 0.9366687777074097\n",
            "Computation Time: 2.6805059909820557\n"
          ]
        }
      ],
      "source": [
        "def predict_input_svm(pipeline, user_input):\n",
        "    predicted_response = pipeline.predict([user_input])[0]\n",
        "    return predicted_response\n",
        "\n",
        "\n",
        "trained_pipeline_svm, accuracy_svm , time_svm = train_and_evaluate_svm(df)\n",
        "print(\"Accuracy:\", accuracy_svm)\n",
        "print(\"Computation Time:\",time_svm)\n",
        "\n",
        "\n",
        "\n"
      ]
    },
    {
      "cell_type": "markdown",
      "metadata": {
        "id": "Vejk4JQw7_Qo"
      },
      "source": [
        "**Decision Tree**"
      ]
    },
    {
      "cell_type": "code",
      "execution_count": 68,
      "metadata": {
        "id": "u_QOqGYf1x3U"
      },
      "outputs": [],
      "source": [
        "\n",
        "# Data Augmentation\n",
        "augmented_df = augment_data(df)\n",
        "\n",
        "# Split the Data\n",
        "X_train, X_test, y_train, y_test = train_test_split(augmented_df['pattern'], augmented_df['response'], test_size=0.3, random_state=42)\n",
        "\n",
        "\n",
        "# Define a pipeline with TF-IDF Vectorizer and Decision Tree Classifier\n",
        "pipeline_DTree = Pipeline([\n",
        "    ('tfidf', TfidfVectorizer(ngram_range=(1, 2))),  # Using bi-grams\n",
        "    ('classifier', DecisionTreeClassifier(random_state=42))  # Decision Tree Classifier\n",
        "])\n",
        "start_time = time.time()\n",
        "# Train the pipeline\n",
        "pipeline_DTree.fit(X_train, y_train)\n",
        "end_time = time.time()\n",
        "time_dt = end_time - start_time\n",
        "# Predict on test data\n",
        "y_pred = pipeline_DTree.predict(X_test)\n",
        "\n"
      ]
    },
    {
      "cell_type": "code",
      "execution_count": 69,
      "metadata": {
        "colab": {
          "base_uri": "https://localhost:8080/"
        },
        "id": "TezaQziw7-d8",
        "outputId": "d100b4df-3f92-414c-c892-dc4f577cf094"
      },
      "outputs": [
        {
          "name": "stdout",
          "output_type": "stream",
          "text": [
            "Accuracy: 0.9399696048632219\n",
            "Computation Time: 8.994900703430176\n"
          ]
        }
      ],
      "source": [
        "# Calculate accuracy\n",
        "accuracy_dt = accuracy_score(y_test, y_pred)\n",
        "print(\"Accuracy:\", accuracy_dt)\n",
        "\n",
        "print(\"Computation Time:\",time_dt)\n",
        "\n",
        "# Function to predict response\n",
        "def predict_input_dt(model,user_input):\n",
        "    predicted_response = model.predict([user_input])[0]\n",
        "    return predicted_response\n"
      ]
    },
    {
      "cell_type": "markdown",
      "metadata": {
        "id": "BBIyn1Ic87yi"
      },
      "source": [
        "**Random forest classifier**"
      ]
    },
    {
      "cell_type": "code",
      "execution_count": 70,
      "metadata": {
        "id": "ruf_0HEc_LF7"
      },
      "outputs": [],
      "source": [
        "# Data Augmentation\n",
        "augmented_df = augment_data(df)\n",
        "\n",
        "# Split the Data\n",
        "X_train, X_test, y_train, y_test = train_test_split(augmented_df['pattern'], augmented_df['response'], test_size=0.3, random_state=42)\n",
        "\n",
        "# Define a pipeline with TF-IDF Vectorizer and Random Forest Classifier\n",
        "pipeline_rf = Pipeline([\n",
        "    ('tfidf', TfidfVectorizer(ngram_range=(1, 2))),  # Using bi-grams\n",
        "    ('classifier', RandomForestClassifier())  # Random Forest Classifier\n",
        "])\n",
        "\n",
        "start_time = time.time()\n",
        "# Train the pipeline\n",
        "pipeline_rf.fit(X_train, y_train)\n",
        "end_time = time.time()\n",
        "time_rf = end_time - start_time\n",
        "# Predict on test data\n",
        "y_pred = pipeline_rf.predict(X_test)\n",
        "\n"
      ]
    },
    {
      "cell_type": "code",
      "execution_count": 71,
      "metadata": {
        "colab": {
          "base_uri": "https://localhost:8080/"
        },
        "id": "DubDSnF8_U9I",
        "outputId": "141ec2b4-3574-4b9f-9c4b-8363c57bddb6"
      },
      "outputs": [
        {
          "name": "stdout",
          "output_type": "stream",
          "text": [
            "Random Forest Classifier Accuracy: 0.9399696048632219\n",
            "Computation Time: 16.845917224884033\n"
          ]
        }
      ],
      "source": [
        "\n",
        "\n",
        "# Calculate accuracy for Random Forest Classifier\n",
        "accuracy_rf = accuracy_score(y_test, y_pred)\n",
        "print(\"Random Forest Classifier Accuracy:\", accuracy_rf)\n",
        "print(\"Computation Time:\",time_rf)"
      ]
    },
    {
      "cell_type": "code",
      "execution_count": 72,
      "metadata": {
        "id": "WiJa9ItTl4ez"
      },
      "outputs": [],
      "source": [
        "def predict_input_rf(model, user_input):\n",
        "    predicted_response = model.predict([user_input])[0]\n",
        "    return predicted_response"
      ]
    },
    {
      "cell_type": "markdown",
      "metadata": {
        "id": "N-MwhXZM-S55"
      },
      "source": [
        "**KNN model**"
      ]
    },
    {
      "cell_type": "code",
      "execution_count": 73,
      "metadata": {
        "id": "svo1BDMY-SGX"
      },
      "outputs": [],
      "source": [
        "\n",
        "augmented_df = augment_data(df)\n",
        "\n",
        "# Split the Data\n",
        "X_train, X_test, y_train, y_test = train_test_split(augmented_df['pattern'], augmented_df['response'], test_size=0.3, random_state=42)\n",
        "\n",
        "# Define a pipeline with TF-IDF Vectorizer and KNN Classifier\n",
        "pipeline_KNN = Pipeline([\n",
        "    ('tfidf', TfidfVectorizer(ngram_range=(1, 2))),  # Using bi-grams\n",
        "    ('classifier', KNeighborsClassifier())  # KNN Classifier\n",
        "])\n",
        "start_time = time.time()\n",
        "# Train the pipeline\n",
        "pipeline_KNN.fit(X_train, y_train)\n",
        "end_time = time.time()\n",
        "time_knn = end_time - start_time\n",
        "# Predict on test data\n",
        "y_pred_knn = pipeline_KNN.predict(X_test)\n",
        "\n"
      ]
    },
    {
      "cell_type": "code",
      "execution_count": 74,
      "metadata": {
        "colab": {
          "base_uri": "https://localhost:8080/"
        },
        "id": "QnoA2S287w2P",
        "outputId": "de5b279f-a69e-41d6-9ca7-f308deab379d"
      },
      "outputs": [
        {
          "name": "stdout",
          "output_type": "stream",
          "text": [
            "KNN Classifier Accuracy: 0.6854103343465046\n",
            "Computation Time: 0.06410598754882812\n"
          ]
        }
      ],
      "source": [
        "\n",
        "\n",
        "# Calculate accuracy for KNN Classifier\n",
        "accuracy_knn = accuracy_score(y_test, y_pred_knn)\n",
        "print(\"KNN Classifier Accuracy:\", accuracy_knn)\n",
        "print(\"Computation Time:\",time_knn)"
      ]
    },
    {
      "cell_type": "code",
      "execution_count": 75,
      "metadata": {
        "id": "dymEF4-tmCZD"
      },
      "outputs": [],
      "source": [
        "def predict_input_knn(model, user_input):\n",
        "    predicted_response = model.predict([user_input])[0]\n",
        "    return predicted_response"
      ]
    },
    {
      "cell_type": "markdown",
      "metadata": {
        "id": "7N0I1ESGCSKZ"
      },
      "source": [
        "# Accurancy graph"
      ]
    },
    {
      "cell_type": "code",
      "execution_count": 76,
      "metadata": {
        "colab": {
          "base_uri": "https://localhost:8080/",
          "height": 564
        },
        "id": "lRkFSKi6CYum",
        "outputId": "68e98ad2-9b97-4a26-9646-85bf4bbb4c35"
      },
      "outputs": [
        {
          "data": {
            "image/png": "[encoded data removed]",
            "text/plain": [
              "<Figure size 1000x600 with 1 Axes>"
            ]
          },
          "metadata": {},
          "output_type": "display_data"
        }
      ],
      "source": [
        "# List of model names\n",
        "models = ['SVM', 'Logistic Regression', 'Random Forest', 'KNN', 'Decision Tree']\n",
        "\n",
        "# List of accuracies for each model\n",
        "accuracies = [accuracy_svm, accuracy_lr, accuracy_rf, accuracy_knn, accuracy_dt]\n",
        "\n",
        "# Plotting the bar plot\n",
        "plt.figure(figsize=(10, 6))\n",
        "plt.bar(models, accuracies, color='skyblue')\n",
        "plt.xlabel('Model')\n",
        "plt.ylabel('Accuracy')\n",
        "plt.title('Accuracy of Different Models')\n",
        "plt.ylim(0.0, 1.0)  # Set the y-axis limit from 0 to 1\n",
        "plt.show()"
      ]
    },
    {
      "cell_type": "markdown",
      "metadata": {
        "id": "U5l4oW2EMbDQ"
      },
      "source": [
        "# Computation graph"
      ]
    },
    {
      "cell_type": "code",
      "execution_count": 77,
      "metadata": {
        "colab": {
          "base_uri": "https://localhost:8080/",
          "height": 569
        },
        "id": "tb7bZVcmNEAp",
        "outputId": "f601e498-afb5-4c8e-fa31-8bc3d1459e2a"
      },
      "outputs": [
        {
          "data": {
            "image/png": "[encoded data removed]",
            "text/plain": [
              "<Figure size 1000x600 with 1 Axes>"
            ]
          },
          "metadata": {},
          "output_type": "display_data"
        }
      ],
      "source": [
        "# List of computation times for each model \n",
        "computation_times = [time_svm, time_lr, time_rf, time_knn, time_dt]\n",
        "\n",
        "plt.figure(figsize=(10, 6))\n",
        "plt.scatter(computation_times, models, color='skyblue', edgecolor='black', s=100, alpha=0.7)\n",
        "plt.xlabel('Computation Time (seconds)', fontsize=12)\n",
        "plt.ylabel('Model', fontsize=12)\n",
        "plt.title('Computation Time for Different Models', fontsize=14)\n",
        "plt.grid(True, linestyle='--', alpha=0.5)\n",
        "plt.show()"
      ]
    },
    {
      "cell_type": "code",
      "execution_count": 78,
      "metadata": {
        "colab": {
          "base_uri": "https://localhost:8080/",
          "height": 569
        },
        "id": "NjS6dWaEH9Z3",
        "outputId": "921033c6-ea5c-41df-f714-9d3f7e7e912d"
      },
      "outputs": [
        {
          "data": {
            "image/png": "[encoded data removed]",
            "text/plain": [
              "<Figure size 1000x600 with 1 Axes>"
            ]
          },
          "metadata": {},
          "output_type": "display_data"
        }
      ],
      "source": [
        "\n",
        "plt.figure(figsize=(10, 6))\n",
        "plt.scatter(computation_times, accuracies, color='skyblue', edgecolor='black', s=100, alpha=0.7)\n",
        "plt.xlabel('Computation Time (seconds)', fontsize=12)\n",
        "plt.ylabel('Accuracy', fontsize=12)\n",
        "plt.title('Accuracy vs. Computation Time for Different Models', fontsize=14)\n",
        "for model, time, accuracy in zip(models, computation_times, accuracies):\n",
        "    plt.annotate(model, (time, accuracy), xytext=(5, 5), textcoords='offset points', fontsize=10)\n",
        "plt.grid(True, linestyle='--', alpha=0.5)\n",
        "plt.show()\n"
      ]
    },
    {
      "cell_type": "code",
      "execution_count": 78,
      "metadata": {
        "id": "lceHltIRRJyZ"
      },
      "outputs": [],
      "source": []
    },
    {
      "cell_type": "code",
      "execution_count": 79,
      "metadata": {
        "id": "-Xw5JMjSiDxr"
      },
      "outputs": [],
      "source": [
        "def chatbot():\n",
        "    print(\"Chatbot: Hello! I'm your mental health care assistant. Let's talk about how you're feeling today.\")\n",
        "    user_name = input(\"Chatbot: Before we begin, may I know your name please? \")\n",
        "\n",
        "\n",
        "    print(f\"Chatbot: Nice to meet you, {user_name}! How can I assist you today? Type 'exit' to end our conversation.\")\n",
        "\n",
        "    while True:\n",
        "        # Take the user's input\n",
        "        user_input = input(f\"{user_name}: \")\n",
        "        # Check if the user wants to exit the conversation\n",
        "        if user_input.lower() in ['exit', 'quit']:\n",
        "            print(f\"Chatbot: Thank you for talking with me, {user_name}. Take care!\")\n",
        "            break\n",
        "\n",
        "        # Predict responses using different models\n",
        "        response_svm = predict_input_svm(trained_pipeline_svm,  user_input)\n",
        "        response_lr = predict_input_lr(trained_pipeline_lr, user_input)\n",
        "        response_rf = predict_input_rf(pipeline_rf, user_input)\n",
        "        response_dt = predict_input_dt(pipeline_DTree,user_input)\n",
        "        response_knn = predict_input_knn(pipeline_KNN,user_input)\n",
        "\n",
        "        # Combine responses from different models\n",
        "        combined_response = f\"SVM: {response_svm}\\nLogistic Regression: {response_lr}\\nRandom Forest: {response_rf}\\nDecision Tree: {response_dt}\\nKNN: {response_knn}\"\n",
        "\n",
        "        print(\"Chatbot:\", combined_response)\n"
      ]
    },
    {
      "cell_type": "code",
      "execution_count": 80,
      "metadata": {
        "id": "aZYX5h7qR5FF"
      },
      "outputs": [],
      "source": [
        "# Call the chatbot function to start the conversation\n",
        "chatbot()"
      ]
    },
    {
      "cell_type": "code",
      "execution_count": 81,
      "metadata": {
        "colab": {
          "base_uri": "https://localhost:8080/"
        },
        "id": "XjlasjmheO02",
        "outputId": "e9cd57db-72a0-4210-b9e2-e4bb05b3c784"
      },
      "outputs": [
        {
          "data": {
            "text/plain": [
              "['random_forest_model.joblib']"
            ]
          },
          "execution_count": 81,
          "metadata": {},
          "output_type": "execute_result"
        }
      ],
      "source": [
        "import joblib\n",
        "\n",
        "# Save svm model\n",
        "joblib.dump(trained_pipeline_svm, 'svm_model.joblib')\n",
        "\n",
        "# Save random forest model\n",
        "joblib.dump(pipeline_rf, 'random_forest_model.joblib')\n"
      ]
    },
    {
      "cell_type": "code",
      "execution_count": 82,
      "metadata": {
        "id": "pw0-ksqlQk70"
      },
      "outputs": [],
      "source": [
        "# from google.colab import files\n",
        "files.download('svm_model.joblib')"
      ]
    },
    {
      "cell_type": "code",
      "execution_count": 83,
      "metadata": {
        "id": "jwHmB4PdekEk"
      },
      "outputs": [],
      "source": [
        "pip freeze\n"
      ]
    },
    {
      "cell_type": "code",
      "execution_count": 84,
      "metadata": {
        "id": "nW-NR6LkEBJy"
      },
      "outputs": [],
      "source": [
        "pip freeze > 'requirements.txt'"
      ]
    },
    {
      "cell_type": "code",
      "execution_count": 84,
      "metadata": {
        "id": "x1n5xwj6rfWZ"
      },
      "outputs": [],
      "source": []
    }
  ],
  "metadata": {
    "accelerator": "GPU",
    "colab": {
      "gpuType": "T4",
      "provenance": []
    },
    "kernelspec": {
      "display_name": "Python 3",
      "name": "python3"
    },
    "language_info": {
      "name": "python"
    }
  },
  "nbformat": 4,
  "nbformat_minor": 0
}
